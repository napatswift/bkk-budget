{
 "cells": [
  {
   "cell_type": "code",
   "execution_count": null,
   "id": "42687750",
   "metadata": {},
   "outputs": [],
   "source": [
    "import pandas as pd\n",
    "import numpy as np\n",
    "from tqdm import tqdm\n",
    "import re"
   ]
  },
  {
   "cell_type": "code",
   "execution_count": null,
   "id": "9944bb46",
   "metadata": {},
   "outputs": [],
   "source": [
    "_bb=pd.read_csv('bkk_budget_ocr.csv',index_col=0)\n",
    "_bb=_bb[~_bb['pagenum'].isna()]"
   ]
  },
  {
   "cell_type": "code",
   "execution_count": null,
   "id": "d2343934",
   "metadata": {},
   "outputs": [],
   "source": [
    "# number of document\n",
    "len(_bb.pdf.unique())"
   ]
  },
  {
   "cell_type": "code",
   "execution_count": null,
   "id": "a3d028d8",
   "metadata": {},
   "outputs": [],
   "source": [
    "_bb['pagenum'] = _bb['pagenum'].astype(int)\n",
    "_bb['text'] = _bb['text'].astype(str)"
   ]
  },
  {
   "cell_type": "markdown",
   "id": "e37cf58c",
   "metadata": {},
   "source": [
    "select test set"
   ]
  },
  {
   "cell_type": "code",
   "execution_count": null,
   "id": "ef17f3bf",
   "metadata": {},
   "outputs": [],
   "source": [
    "interested_doc = [\n",
    "    'pdf/61/A20171003163303.pdf', \n",
    "    'pdf/61/A20171003164329.pdf', \n",
    "    'pdf/61/A20171003170601.pdf', \n",
    "    'pdf/62/A20181002170334.pdf',\n",
    "    'pdf/64/topic2787_2020_10_06_10_18_31.pdf',\n",
    "    'pdf/64/topic2787_2020_10_06_10_18_51.pdf']"
   ]
  },
  {
   "cell_type": "markdown",
   "id": "ccbb33dd",
   "metadata": {},
   "source": [
    "create total sum of the document for validation"
   ]
  },
  {
   "cell_type": "code",
   "execution_count": null,
   "id": "b25b1e8f",
   "metadata": {},
   "outputs": [],
   "source": [
    "answers = {\n",
    "    'pdf/61/A20171003163303.pdf': {'sum':691_229_200, 'start': 3},\n",
    "    'pdf/61/A20171003164329.pdf': {'sum': 386_943_640, 'start': 5},\n",
    "    'pdf/61/A20171003170601.pdf': {'sum': 365_299_840, 'start': 5},\n",
    "    'pdf/62/A20181002170334.pdf': {'sum': 357_892_000, 'start': 5},\n",
    "    'pdf/64/topic2787_2020_10_06_10_18_31.pdf': {'sum': 424_674_000, 'start': 5},\n",
    "    'pdf/64/topic2787_2020_10_06_10_18_51.pdf': {'sum': 398_016_000, 'start': 5},\n",
    "    }"
   ]
  },
  {
   "cell_type": "markdown",
   "id": "24387026",
   "metadata": {},
   "source": [
    "remove unwanted document (just for develop)"
   ]
  },
  {
   "cell_type": "code",
   "execution_count": null,
   "id": "aae63133",
   "metadata": {},
   "outputs": [],
   "source": [
    "interested_doc = np.random.choice(_bb.pdf.unique(), 20)\n",
    "# interested_doc = ['pdf/62/A20181002170030.pdf']"
   ]
  },
  {
   "cell_type": "code",
   "execution_count": null,
   "id": "aced5c37",
   "metadata": {
    "scrolled": true
   },
   "outputs": [],
   "source": [
    "bb=_bb[_bb.pdf.isin(interested_doc)]"
   ]
  },
  {
   "cell_type": "markdown",
   "id": "d49764ed",
   "metadata": {},
   "source": [
    "fix text by dict"
   ]
  },
  {
   "cell_type": "code",
   "execution_count": null,
   "id": "47b20c9b",
   "metadata": {},
   "outputs": [],
   "source": [
    "chr_fix_pair={'ำ': 'า','/า': 'ำ', '/้า': '้ำ'}"
   ]
  },
  {
   "cell_type": "code",
   "execution_count": null,
   "id": "fd5fe822",
   "metadata": {},
   "outputs": [],
   "source": [
    "def fix_pdf_text(old_text):\n",
    "    new_text = old_text.strip()\n",
    "    for o,n in chr_fix_pair.items():\n",
    "        new_text=new_text.replace(o,n)\n",
    "    return new_text\n",
    "\n",
    "bb=bb.assign(fix_text=bb.text.apply(fix_pdf_text))"
   ]
  },
  {
   "cell_type": "markdown",
   "id": "cb7c1b61",
   "metadata": {},
   "source": [
    "replace text from pdf with OCR text"
   ]
  },
  {
   "cell_type": "code",
   "execution_count": null,
   "id": "76840f76",
   "metadata": {},
   "outputs": [],
   "source": [
    "bb.loc[~bb['ocr-text'].isna(), 'fix_text'] = bb[~bb['ocr-text'].isna()]['ocr-text']"
   ]
  },
  {
   "cell_type": "markdown",
   "id": "8a2d6a8b",
   "metadata": {},
   "source": [
    "group line"
   ]
  },
  {
   "cell_type": "code",
   "execution_count": null,
   "id": "0cf9b7bc",
   "metadata": {
    "scrolled": false
   },
   "outputs": [],
   "source": [
    "for g, page_df in tqdm(bb.groupby('image_path')):\n",
    "    page_df = page_df.sort_values(['y0', 'x0'])\n",
    "    bb.loc[page_df.index, 'line_label']=(\n",
    "        (page_df.y0.diff() > 10) | page_df.y0.diff().isna()\n",
    "    ).astype(int).cumsum()"
   ]
  },
  {
   "cell_type": "code",
   "execution_count": null,
   "id": "ac6c2215",
   "metadata": {},
   "outputs": [],
   "source": [
    "bb.loc[:, 'line_label'] = bb.line_label.astype(int)"
   ]
  },
  {
   "cell_type": "code",
   "execution_count": null,
   "id": "061544a8",
   "metadata": {},
   "outputs": [],
   "source": [
    "bb=bb.assign(fisical_year=bb.pdf.apply(lambda v: int(re.findall('/6\\d/', v)[0][1:-1])))"
   ]
  },
  {
   "cell_type": "code",
   "execution_count": null,
   "id": "f4833f13",
   "metadata": {},
   "outputs": [],
   "source": [
    "# bb.sort_values(['fisical_year', 'pagenum', 'line_label', 'y0', 'x0'])"
   ]
  },
  {
   "cell_type": "markdown",
   "id": "a86b1e36",
   "metadata": {},
   "source": [
    "# Try to parse"
   ]
  },
  {
   "cell_type": "code",
   "execution_count": null,
   "id": "5daa74d9",
   "metadata": {},
   "outputs": [],
   "source": [
    "import re\n",
    "def get_patern_of_bullet(String):\n",
    "    regx = [\n",
    "        ('^0[\\-–\\d]+$', 70),\n",
    "        ('^\\(\\d*(\\.?\\d*)*\\)$', 50),\n",
    "        ('^[1-9]\\d*(\\.[1-9]\\d*)*\\)$', 20),\n",
    "        ('^[1-9]\\d*(\\.[1-9]\\d*)+$', 5),\n",
    "        ('^[1-9]\\d*\\.$', 4),\n",
    "        ('^โครงการ', 3),\n",
    "        ('^งาน', 3),\n",
    "        ('^แผนงาน', 2),\n",
    "        ('^[\\u0E00-\\u0E7F]\\.$', 1)\n",
    "    ]\n",
    "    \n",
    "    if String in ['ด้านการจัดบริการของสำนักงานเขต',\n",
    "                  'ด้านการบริหารจัดการและบริหารราชการกรุงเทพมหานคร',\n",
    "                  'ด้านการศึกษา',\n",
    "                  'ด้านความปลอดภัยและความเป็นระเบียบเรียบร้อย',\n",
    "                  'ด้านทรัพยากรธรรมชาติและสิ่งแวดล้อม',\n",
    "                  'ด้านพัฒนาสังคมและชุมชนเมือง',\n",
    "                  'ด้านสาธารณสุข',\n",
    "                  'ด้านเมืองและการพัฒนาเมือง',\n",
    "                  'ด้านเศรษฐกิจและการพาณิชย์']: return ('ด้าน',1)\n",
    "\n",
    "    for r, l in regx:\n",
    "        if re.match(r, String):\n",
    "            if l in [5, 20, 50]:\n",
    "                l = String.count('.') + l\n",
    "            if r == '^งาน' and String == 'งานที่จะทำ': continue\n",
    "            return r, l\n",
    "    return '', 0"
   ]
  },
  {
   "cell_type": "code",
   "execution_count": null,
   "id": "5c457348",
   "metadata": {},
   "outputs": [],
   "source": [
    "bb_with_entry = bb.copy()"
   ]
  },
  {
   "cell_type": "code",
   "execution_count": null,
   "id": "c42d82fb",
   "metadata": {},
   "outputs": [],
   "source": [
    "import fitz"
   ]
  },
  {
   "cell_type": "code",
   "execution_count": null,
   "id": "1fae2ce0",
   "metadata": {
    "scrolled": true
   },
   "outputs": [],
   "source": [
    "pov = tqdm(total=100)\n",
    "i = 0\n",
    "while i < 100:\n",
    "    pov.update(1)\n",
    "    i += 1"
   ]
  },
  {
   "cell_type": "code",
   "execution_count": null,
   "id": "b7636400",
   "metadata": {
    "scrolled": true
   },
   "outputs": [],
   "source": [
    "len(bb[~bb.line_label.isna()].groupby(['pdf','pagenum']))"
   ]
  },
  {
   "cell_type": "code",
   "execution_count": null,
   "id": "133dfdec",
   "metadata": {},
   "outputs": [],
   "source": [
    "except_pdf = ['pdf/65/65001.pdf']"
   ]
  },
  {
   "cell_type": "code",
   "execution_count": null,
   "id": "c86ed7a9",
   "metadata": {
    "scrolled": false
   },
   "outputs": [],
   "source": [
    "entry_label_id = 0\n",
    "is_entry = False\n",
    "\n",
    "for pdf_name, pdf_df in tqdm(bb[~bb.line_label.isna()].groupby(['pdf',])): \n",
    "    doc = fitz.open(pdf_name)\n",
    "    if pdf_name in except_pdf: continue\n",
    "        \n",
    "    for pdf_page_index, page_df in pdf_df.groupby(['pagenum']):\n",
    "        page = doc.load_page(pdf_page_index)\n",
    "        if [x for x in page.get_drawings() if x['rect'].height > 10]:\n",
    "            continue\n",
    "\n",
    "        bb_with_entry.loc[page_df.index, 'is_included'] = True\n",
    "            \n",
    "        for line_num, line_df in page_df.groupby('line_label'):\n",
    "            if (line_df.fix_text == 'รายละเอียดรายจ่าย').any():\n",
    "                continue\n",
    "            \n",
    "            fisical_year = line_df.fisical_year.values[0]\n",
    "            if (line_df.fix_text.isin(['ปี', f'25{fisical_year}', 'บาท'])).sum() == 3:\n",
    "                continue\n",
    "\n",
    "            if line_num == 0:\n",
    "                continue\n",
    "\n",
    "            text_line = line_df.sort_values(by='x0',ascending=True).fix_text.values\n",
    "            bullet_code = get_patern_of_bullet(text_line[0])[1]\n",
    "\n",
    "            if bullet_code == 70:\n",
    "                if len(text_line) > 1:\n",
    "                    second_bullet = get_patern_of_bullet(text_line[1])[1]\n",
    "                    if second_bullet != 0: bullet_code = second_bullet\n",
    "                if len(text_line) > 2:\n",
    "                    third_bullet = get_patern_of_bullet(text_line[2])[1]\n",
    "                    if third_bullet != 0: bullet_code = third_bullet\n",
    "\n",
    "            if bullet_code != 0:\n",
    "                entry_label_id += 1\n",
    "                bb_with_entry.loc[line_df.index, 'bullet_label'] = bullet_code\n",
    "                is_entry = True\n",
    "\n",
    "            if is_entry:\n",
    "                bb_with_entry.loc[line_df.index, 'entry_label'] = entry_label_id\n",
    "\n",
    "            is_last_token_baht = text_line[-1] == 'บาท'\n",
    "            if is_last_token_baht:\n",
    "                is_entry = False"
   ]
  },
  {
   "cell_type": "code",
   "execution_count": null,
   "id": "060a8681",
   "metadata": {},
   "outputs": [],
   "source": []
  },
  {
   "cell_type": "code",
   "execution_count": null,
   "id": "752ffbf3",
   "metadata": {},
   "outputs": [],
   "source": [
    "bb_with_entry[~bb_with_entry.is_included.isna()][[\n",
    "    'pdf','pagenum','line_label','fix_text','fisical_year','bullet_label','entry_label',]]\\\n",
    ".to_csv('bb-with-entry.csv')"
   ]
  },
  {
   "cell_type": "code",
   "execution_count": null,
   "id": "9dcc1b8e",
   "metadata": {},
   "outputs": [],
   "source": [
    "bb_with_entry[\n",
    "    (bb_with_entry.pagenum == 24) & (bb_with_entry.pdf == 'pdf/64/topic2787_2020_10_06_10_18_51.pdf')\n",
    "][['fix_text', 'entry_label']].values;"
   ]
  },
  {
   "cell_type": "code",
   "execution_count": null,
   "id": "082a5ffe",
   "metadata": {
    "scrolled": true
   },
   "outputs": [],
   "source": [
    "# inspect them\n",
    "start_entry=bb_with_entry[~bb_with_entry.bullet_label.isna()].groupby(['pdf','pagenum','entry_label']).x0.min()\n",
    "start_entry.mean(),start_entry.std(),start_entry.mean()+start_entry.std(),start_entry.max()"
   ]
  },
  {
   "cell_type": "code",
   "execution_count": null,
   "id": "c54cd34c",
   "metadata": {},
   "outputs": [],
   "source": [
    "len(bb_with_entry.pdf.unique())"
   ]
  },
  {
   "cell_type": "code",
   "execution_count": null,
   "id": "8bc84365",
   "metadata": {
    "scrolled": false
   },
   "outputs": [],
   "source": [
    "# test print by entry\n",
    "bb_with_entry\\\n",
    "    .groupby(['pdf','pagenum', 'entry_label'])\\\n",
    "    .apply(lambda x: (\n",
    "            x.iloc[0].pdf,\n",
    "#             x.iloc[0].entry_label,\n",
    "#             x.iloc[0].bullet_label,\n",
    "            ' '.join(x.fix_text.values.tolist())\n",
    "    )).to_list();"
   ]
  },
  {
   "cell_type": "markdown",
   "id": "6ab3bed5",
   "metadata": {},
   "source": [
    "Relation extraction\n",
    "\n",
    "pairing parent node with child nodes"
   ]
  },
  {
   "cell_type": "code",
   "execution_count": null,
   "id": "6908785c",
   "metadata": {},
   "outputs": [],
   "source": [
    "entry_bullet_table = bb_with_entry.groupby('entry_label').apply(lambda x: x.bullet_label.unique()[0])\n",
    "entry_page_num_table = bb_with_entry.groupby('entry_label').apply(lambda x: x.pagenum.unique()[0])\n",
    "entry_text_table = bb_with_entry.groupby('entry_label').apply(lambda x: ' '.join(x.fix_text.values))"
   ]
  },
  {
   "cell_type": "code",
   "execution_count": null,
   "id": "08e97bc1",
   "metadata": {},
   "outputs": [],
   "source": [
    "child_parent_table = dict()\n",
    "curr = None\n",
    "prev_pdf_name = None\n",
    "for entry, bullet in entry_bullet_table.items():\n",
    "    pdf_name = bb_with_entry[bb_with_entry.entry_label == entry].pdf.iloc[0]\n",
    "    if prev_pdf_name != pdf_name:\n",
    "        curr = None\n",
    "    prev_pdf_name = pdf_name\n",
    "    while (curr is not None and bullet <= entry_bullet_table[curr]):\n",
    "        curr = child_parent_table[curr]\n",
    "    child_parent_table[entry] = curr\n",
    "    curr = entry"
   ]
  },
  {
   "cell_type": "code",
   "execution_count": null,
   "id": "db13a703",
   "metadata": {},
   "outputs": [],
   "source": [
    "len(child_parent_table),len(entry_bullet_table)"
   ]
  },
  {
   "cell_type": "code",
   "execution_count": null,
   "id": "0607f7f3",
   "metadata": {},
   "outputs": [],
   "source": [
    "from graphviz import Digraph"
   ]
  },
  {
   "cell_type": "code",
   "execution_count": null,
   "id": "26b8d6ee",
   "metadata": {},
   "outputs": [],
   "source": [
    "d=Digraph('diagram', graph_attr={'rankdir': 'RL'})\n",
    "\n",
    "pdf_in_diagram = []\n",
    "\n",
    "d.attr('node',shape='circle')\n",
    "print('total pdf', len(bb_with_entry.pdf.unique()))\n",
    "for pdf_name in bb_with_entry.pdf.unique():\n",
    "    d.node(pdf_name)\n",
    "\n",
    "d.attr('node',shape='box')\n",
    "for c,p in child_parent_table.items():\n",
    "    cs = str(c)\n",
    "    ps = str(p)\n",
    "    \n",
    "    pdf_name = bb_with_entry[bb_with_entry.entry_label == c].pdf.iloc[0]\n",
    "    node_label = entry_text_table.loc[c]\n",
    "    \n",
    "    amount = re.findall('[\\d,]+ บาท', node_label)\n",
    "    node_label = re.sub('[\\d,]+ บาท', '', node_label)\n",
    "    node_label = node_label[:50].strip() + ' ' + (amount[0] if len(amount) > 0 else '')\n",
    "    \n",
    "    d.node(cs, node_label)\n",
    "    \n",
    "    if p is None:\n",
    "        ps = pdf_name\n",
    "        if pdf_name not in pdf_in_diagram: pdf_in_diagram.append(pdf_name)\n",
    "\n",
    "    d.edge(cs, ps)\n",
    "    pagenum = entry_page_num_table[c]"
   ]
  },
  {
   "cell_type": "code",
   "execution_count": null,
   "id": "252c9e1f",
   "metadata": {
    "scrolled": true
   },
   "outputs": [],
   "source": [
    "d;#.render(format='png')"
   ]
  },
  {
   "cell_type": "code",
   "execution_count": null,
   "id": "1c614ebb",
   "metadata": {},
   "outputs": [],
   "source": [
    "d.render('out',format='svg')"
   ]
  },
  {
   "cell_type": "code",
   "execution_count": null,
   "id": "c2325449",
   "metadata": {},
   "outputs": [],
   "source": [
    "bb_with_entry[bb_with_entry.pdf == 'pdf/62/A20181002170030.pdf']\\\n",
    ".groupby(['pagenum', 'line_label'])\\\n",
    ".apply(lambda x: print(x[['bullet_label', 'fix_text']].values.tolist()));"
   ]
  },
  {
   "cell_type": "code",
   "execution_count": null,
   "id": "fc079783",
   "metadata": {},
   "outputs": [],
   "source": []
  }
 ],
 "metadata": {
  "kernelspec": {
   "display_name": "Python 3 (ipykernel)",
   "language": "python",
   "name": "python3"
  },
  "language_info": {
   "codemirror_mode": {
    "name": "ipython",
    "version": 3
   },
   "file_extension": ".py",
   "mimetype": "text/x-python",
   "name": "python",
   "nbconvert_exporter": "python",
   "pygments_lexer": "ipython3",
   "version": "3.9.7"
  }
 },
 "nbformat": 4,
 "nbformat_minor": 5
}
