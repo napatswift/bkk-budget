{
 "cells": [
  {
   "cell_type": "code",
   "execution_count": 1,
   "id": "42687750",
   "metadata": {},
   "outputs": [],
   "source": [
    "import pandas as pd\n",
    "import numpy as np\n",
    "from tqdm import tqdm\n",
    "from collections import defaultdict\n",
    "from sklearn.cluster import DBSCAN"
   ]
  },
  {
   "cell_type": "code",
   "execution_count": 2,
   "id": "9944bb46",
   "metadata": {},
   "outputs": [
    {
     "name": "stderr",
     "output_type": "stream",
     "text": [
      "/Users/napatswift/opt/anaconda3/lib/python3.9/site-packages/IPython/core/interactiveshell.py:3444: DtypeWarning: Columns (0,9) have mixed types.Specify dtype option on import or set low_memory=False.\n",
      "  exec(code_obj, self.user_global_ns, self.user_ns)\n"
     ]
    }
   ],
   "source": [
    "_bb=pd.read_csv('bkk_budget_ocr.csv',index_col=0)\n",
    "_bb=_bb[~_bb['pagenum'].isna()]"
   ]
  },
  {
   "cell_type": "code",
   "execution_count": 3,
   "id": "d2343934",
   "metadata": {},
   "outputs": [
    {
     "data": {
      "text/plain": [
       "385"
      ]
     },
     "execution_count": 3,
     "metadata": {},
     "output_type": "execute_result"
    }
   ],
   "source": [
    "# number of document\n",
    "len(_bb.pdf.unique())"
   ]
  },
  {
   "cell_type": "code",
   "execution_count": 4,
   "id": "a3d028d8",
   "metadata": {},
   "outputs": [],
   "source": [
    "_bb['pagenum'] = _bb['pagenum'].astype(int)\n",
    "_bb['text'] = _bb['text'].astype(str)"
   ]
  },
  {
   "cell_type": "markdown",
   "id": "e37cf58c",
   "metadata": {},
   "source": [
    "select test set"
   ]
  },
  {
   "cell_type": "code",
   "execution_count": 5,
   "id": "ef17f3bf",
   "metadata": {},
   "outputs": [],
   "source": [
    "interested_doc = [\n",
    "    'pdf/61/A20171003163303.pdf', \n",
    "    'pdf/61/A20171003164329.pdf', \n",
    "    'pdf/61/A20171003170601.pdf', \n",
    "    'pdf/62/A20181002170334.pdf',\n",
    "    'pdf/64/topic2787_2020_10_06_10_18_31.pdf',\n",
    "    'pdf/64/topic2787_2020_10_06_10_18_51.pdf']"
   ]
  },
  {
   "cell_type": "markdown",
   "id": "ccbb33dd",
   "metadata": {},
   "source": [
    "create total sum of the document for validation"
   ]
  },
  {
   "cell_type": "code",
   "execution_count": 6,
   "id": "b25b1e8f",
   "metadata": {},
   "outputs": [],
   "source": [
    "answers = {\n",
    "    'pdf/61/A20171003163303.pdf': {'sum':691_229_200, 'start': 3},\n",
    "    'pdf/61/A20171003164329.pdf': {'sum': 386_943_640, 'start': 5},\n",
    "    'pdf/61/A20171003170601.pdf': {'sum': 365_299_840, 'start': 5},\n",
    "    'pdf/62/A20181002170334.pdf': {'sum': 357_892_000, 'start': 5},\n",
    "    'pdf/64/topic2787_2020_10_06_10_18_31.pdf': {'sum': 424_674_000, 'start': 5},\n",
    "    'pdf/64/topic2787_2020_10_06_10_18_51.pdf': {'sum': 398_016_000, 'start': 5},\n",
    "    }"
   ]
  },
  {
   "cell_type": "markdown",
   "id": "24387026",
   "metadata": {},
   "source": [
    "remove unwanted document (just for develop)"
   ]
  },
  {
   "cell_type": "code",
   "execution_count": 7,
   "id": "aced5c37",
   "metadata": {
    "scrolled": true
   },
   "outputs": [],
   "source": [
    "bb=_bb[_bb.pdf.isin(interested_doc)]"
   ]
  },
  {
   "cell_type": "markdown",
   "id": "d49764ed",
   "metadata": {},
   "source": [
    "fix text by dict"
   ]
  },
  {
   "cell_type": "code",
   "execution_count": 8,
   "id": "47b20c9b",
   "metadata": {},
   "outputs": [],
   "source": [
    "chr_fix_pair={'ำ': 'า','/า': 'ำ', '/้า': '้ำ'}"
   ]
  },
  {
   "cell_type": "code",
   "execution_count": 9,
   "id": "fd5fe822",
   "metadata": {},
   "outputs": [],
   "source": [
    "def fix_pdf_text(old_text):\n",
    "    new_text = old_text.strip()\n",
    "    for o,n in chr_fix_pair.items():\n",
    "        new_text=new_text.replace(o,n)\n",
    "    return new_text\n",
    "\n",
    "bb=bb.assign(fix_text=bb.text.apply(fix_pdf_text))"
   ]
  },
  {
   "cell_type": "markdown",
   "id": "cb7c1b61",
   "metadata": {},
   "source": [
    "replace text from pdf with OCR text"
   ]
  },
  {
   "cell_type": "code",
   "execution_count": 10,
   "id": "76840f76",
   "metadata": {},
   "outputs": [],
   "source": [
    "bb.loc[~bb['ocr-text'].isna(), 'fix_text'] = bb[~bb['ocr-text'].isna()]['ocr-text']"
   ]
  },
  {
   "cell_type": "markdown",
   "id": "8a2d6a8b",
   "metadata": {},
   "source": [
    "group line"
   ]
  },
  {
   "cell_type": "code",
   "execution_count": 11,
   "id": "fe10e417",
   "metadata": {
    "scrolled": true
   },
   "outputs": [
    {
     "name": "stderr",
     "output_type": "stream",
     "text": [
      "100%|█████████████████████████████████████████| 221/221 [00:54<00:00,  4.02it/s]\n"
     ]
    }
   ],
   "source": [
    "max_dist = 0.7\n",
    "dbscan = DBSCAN(eps=max_dist, min_samples=0, metric='precomputed')\n",
    "for g, idx in tqdm(bb.groupby('image_path').groups.items()):\n",
    "    out = bb.loc[idx][['x0', 'x1', 'y0', 'y1']]\n",
    "    out['h'] = out.y1 - out.y0\n",
    "    num_bboxes = len(idx)\n",
    "    idx2idx = {j:i for i,j in enumerate(idx)}\n",
    "    n_dist_mat = np.ones((num_bboxes, num_bboxes))\n",
    "    dist_mat = np.ones((num_bboxes, num_bboxes))\n",
    "    \n",
    "    for i in range(num_bboxes):\n",
    "        a = out.iloc[i]\n",
    "        _out=out.loc[idx[i:]]\n",
    "        _skip = (a.y0 > _out.y1) | (_out.y0 > a.y1)\n",
    "        _out = _out[~_skip]\n",
    "        intersection = np.minimum(a.y1, _out.y1) - np.maximum(a.y0, _out.y0)\n",
    "        union = a.h + _out.h - intersection\n",
    "        iou = np.clip(intersection / (union + 1e-10), 0, 1)\n",
    "        idicies = [idx2idx[i] for i in iou.index]\n",
    "        n_dist_mat[i, idicies] = n_dist_mat[idicies, i] = 1-iou.values\n",
    "\n",
    "    fdbscan = dbscan.fit(n_dist_mat)\n",
    "    bb.loc[idx, 'line_label'] = fdbscan.labels_"
   ]
  },
  {
   "cell_type": "code",
   "execution_count": 12,
   "id": "ac6c2215",
   "metadata": {},
   "outputs": [],
   "source": [
    "bb.loc[:, 'line_label'] = bb.line_label.astype(int)"
   ]
  },
  {
   "cell_type": "markdown",
   "id": "a86b1e36",
   "metadata": {},
   "source": [
    "# Try to parse"
   ]
  },
  {
   "cell_type": "code",
   "execution_count": 46,
   "id": "5daa74d9",
   "metadata": {},
   "outputs": [],
   "source": [
    "import re\n",
    "def get_patern_of_bullet(String):\n",
    "    regx = [\n",
    "        ('^0[-\\d]+$', 70),\n",
    "        ('^\\(\\d*(\\.?\\d*)*\\)$', 50),\n",
    "        ('^[1-9]\\d*(\\.[1-9]\\d*)*\\)$', 20),\n",
    "        ('^[1-9]\\d*(\\.[1-9]\\d*)+$', 5),\n",
    "        ('^[1-9]\\d*\\.$', 4),\n",
    "        ('^งาน', 3),\n",
    "        ('^แผนงาน', 2),\n",
    "        ('^[\\u0E00-\\u0E7F]\\.', 1)\n",
    "    ]\n",
    "    \n",
    "    if String in ['ด้านการจัดบริการของสำนักงานเขต',\n",
    "                  'ด้านการบริหารจัดการและบริหารราชการกรุงเทพมหานคร',\n",
    "                  'ด้านการศึกษา',\n",
    "                  'ด้านความปลอดภัยและความเป็นระเบียบเรียบร้อย',\n",
    "                  'ด้านทรัพยากรธรรมชาติและสิ่งแวดล้อม',\n",
    "                  'ด้านพัฒนาสังคมและชุมชนเมือง',\n",
    "                  'ด้านสาธารณสุข',\n",
    "                  'ด้านเมืองและการพัฒนาเมือง',\n",
    "                  'ด้านเศรษฐกิจและการพาณิชย์']: return ('ด้าน',1)\n",
    "\n",
    "    for r, l in regx:\n",
    "        if re.match(r, String):\n",
    "            if l in [5, 20, 50]:\n",
    "                l = String.count('.') + l\n",
    "            if r == '^งาน' and String == 'งานที่จะทำ': continue\n",
    "            return r, l\n",
    "    return '', 0"
   ]
  },
  {
   "cell_type": "code",
   "execution_count": 47,
   "id": "5c457348",
   "metadata": {},
   "outputs": [],
   "source": [
    "bb_with_entry = bb.copy()"
   ]
  },
  {
   "cell_type": "code",
   "execution_count": 48,
   "id": "c86ed7a9",
   "metadata": {},
   "outputs": [
    {
     "name": "stderr",
     "output_type": "stream",
     "text": [
      "100%|█████████████████████████████████████████| 221/221 [00:05<00:00, 36.99it/s]\n"
     ]
    }
   ],
   "source": [
    "entry_label_id = 0\n",
    "\n",
    "is_entry = False\n",
    "for (pdf_name, pdf_page_index), page_df in tqdm(bb[~bb.line_label.isna()].groupby(['pdf','pagenum'])):\n",
    "    if pdf_page_index + 1 < answers[pdf_name]['start']: continue\n",
    "    for line_num, line_df in page_df.groupby('line_label'):\n",
    "        if (line_df.fix_text == 'รายละเอียดรายจ่าย').any(): continue\n",
    "\n",
    "        if (line_df.fix_text.isin(['ปี', '2560', 'บาท'])).sum() == 3:\n",
    "            continue\n",
    "\n",
    "        if line_num == 0: continue\n",
    "\n",
    "        text_line = line_df.sort_values(by='x0',ascending=True).fix_text.values\n",
    "        bullet_code = get_patern_of_bullet(text_line[0])[1]\n",
    "        \n",
    "        if bullet_code == 70:\n",
    "            if len(text_line) > 1:\n",
    "                second_bullet = get_patern_of_bullet(text_line[1])[1]\n",
    "                if second_bullet != 0: bullet_code = second_bullet\n",
    "        \n",
    "        if bullet_code != 0 and line_df.x0.min() < 345:\n",
    "            entry_label_id += 1\n",
    "            bb_with_entry.loc[line_df.index, 'bullet_label'] = bullet_code\n",
    "            is_entry = True\n",
    "\n",
    "        if is_entry:\n",
    "            bb_with_entry.loc[line_df.index, 'entry_label'] = entry_label_id\n",
    "\n",
    "        is_last_token_baht = text_line[-1] == 'บาท'\n",
    "        if is_last_token_baht:\n",
    "            is_entry = False"
   ]
  },
  {
   "cell_type": "code",
   "execution_count": 49,
   "id": "082a5ffe",
   "metadata": {},
   "outputs": [
    {
     "data": {
      "text/plain": [
       "(209.97351808547972, 42.14135666620478, 252.1148747516845, 272.2320098876953)"
      ]
     },
     "execution_count": 49,
     "metadata": {},
     "output_type": "execute_result"
    }
   ],
   "source": [
    "# inspect them\n",
    "start_entry=bb_with_entry[~bb_with_entry.bullet_label.isna()].groupby(['pdf','pagenum','entry_label']).x0.min()\n",
    "start_entry.mean(),start_entry.std(),start_entry.mean()+start_entry.std(),start_entry.max()"
   ]
  },
  {
   "cell_type": "code",
   "execution_count": 50,
   "id": "c59fa3f3",
   "metadata": {},
   "outputs": [],
   "source": [
    "# bb_with_entry[~bb_with_entry.bullet_label.isna() & (bb_with_entry.x0 < 400 )].fix_text.values.tolist()"
   ]
  },
  {
   "cell_type": "code",
   "execution_count": 51,
   "id": "8bc84365",
   "metadata": {
    "scrolled": false
   },
   "outputs": [],
   "source": [
    "# test print by entry\n",
    "bb_with_entry.iloc[:600]\\\n",
    "    .groupby(['pdf','pagenum', 'entry_label'])\\\n",
    "    .apply(lambda x: (x.iloc[0].entry_label,\n",
    "                      np.unique(x.bullet_label.values.tolist()),\n",
    "                      ' '.join(x.fix_text.values.tolist())\n",
    "                     )\n",
    "          )\\\n",
    "    .to_list();"
   ]
  },
  {
   "cell_type": "markdown",
   "id": "6ab3bed5",
   "metadata": {},
   "source": [
    "Relation extraction\n",
    "\n",
    "pairing parent node with child nodes"
   ]
  },
  {
   "cell_type": "code",
   "execution_count": 134,
   "id": "6908785c",
   "metadata": {},
   "outputs": [],
   "source": [
    "entry_bullet_table = bb_with_entry.groupby('entry_label').apply(lambda x: x.bullet_label.unique()[0])\n",
    "entry_text_table = bb_with_entry.groupby('entry_label').apply(lambda x: ' '.join(x.fix_text.values))"
   ]
  },
  {
   "cell_type": "code",
   "execution_count": 152,
   "id": "08e97bc1",
   "metadata": {},
   "outputs": [
    {
     "name": "stdout",
     "output_type": "stream",
     "text": [
      "None 01 ก. ด้านการบริหารทั่วไป 653,189,400 บาท\n",
      "01 ก. ด้านการบริหารทั่วไป 653,189,400 บาท 0101 1. แผนงานบริหารทั่วไป 18,829,800 บาท\n",
      "01 ก. ด้านการบริหารทั่วไป 653,189,400 บาท 0101001 งานบริหารทั่วไป ปี 2561 18,829,800 บาท\n",
      "0101001 งานบริหารทั่วไป ปี 2561 18,829,800 บาท 01 1. เงินเดือนและค่าจ้างประจำ 14,612,000 บาท\n",
      "01 1. เงินเดือนและค่าจ้างประจำ 14,612,000 บาท 01101-1 อัตราเดิม 29 อัตรา 11,230,400 บาท\n",
      "01 1. เงินเดือนและค่าจ้างประจำ 14,612,000 บาท 01102-1 เงินเลื่อนขั้น 499,800 บาท\n",
      "01 1. เงินเดือนและค่าจ้างประจำ 14,612,000 บาท 01106-1 เงินประจำตำแหน่ง 601,200 บาท\n",
      "01 1. เงินเดือนและค่าจ้างประจำ 14,612,000 บาท 01107-1 เงินค่าตอบแทนรายเดือนของข้าราชการ 685,200 บาท\n",
      "01 1. เงินเดือนและค่าจ้างประจำ 14,612,000 บาท 01201-1 อัตราเดิม 8 อัตรา 1,543,900 บาท\n",
      "01 1. เงินเดือนและค่าจ้างประจำ 14,612,000 บาท 01202-1 เงินเพิ่มค่าจ้างประจำ 51,000 บาท\n",
      "01 1. เงินเดือนและค่าจ้างประจำ 14,612,000 บาท 01205-1 เงินเพิ่มการครองชีพชั่วคราวของลูกจ้างประจำ 500 บาท\n",
      "0101001 งานบริหารทั่วไป ปี 2561 18,829,800 บาท 03 2. ค่าตอบแทน ใช้สอยและวัสดุ 2,882,100 บาท\n",
      "03 2. ค่าตอบแทน ใช้สอยและวัสดุ 2,882,100 บาท 031 2.1 ค่าตอบแทน 2,180,000 บาท\n",
      "03 2. ค่าตอบแทน ใช้สอยและวัสดุ 2,882,100 บาท 032 2.2 ค่าใช้สอย 390,700 บาท\n",
      "0101001 งานบริหารทั่วไป ปี 2561 18,829,800 บาท 04 3. ค่าสาธารณูปโภค 176,900 บาท\n",
      "0101001 งานบริหารทั่วไป ปี 2561 18,829,800 บาท 05 4. ค่าครุภัณฑ์ ที่ดินและสิ่งก่อสร้าง 1,158,800 บาท\n",
      "05 4. ค่าครุภัณฑ์ ที่ดินและสิ่งก่อสร้าง 1,158,800 บาท (1) เครื่องคอมพิวเตอร์ สำหรับงานสำนักงาน 05105-2 (จอขนาดไม่น้อยกว่า 19 นิ้ว) พร้อมชุดโปรแกรมระบบปฏิบัติการ สำหรับเครื่องคอมพิวเตอร์ ที่มีลิขสิทธิ์ถูกต้องตามกฎหมาย 1 เครื่อง 19,800 บาท\n",
      "05 4. ค่าครุภัณฑ์ ที่ดินและสิ่งก่อสร้าง 1,158,800 บาท (2) เครื่องคอมพิวเตอร์โน้ตบุ๊ก สำหรับงานประมวลผล 05105-14 พร้อมชุดโปรแกรมระบบปฏิบัติการ สำหรับเครื่องคอมพิวเตอร์โน้ตบุ๊ก ที่มีลิขสิทธิ์ถูกต้องตามกฎหมาย 4 เครื่อง 99,200 บาท\n",
      "05 4. ค่าครุภัณฑ์ ที่ดินและสิ่งก่อสร้าง 1,158,800 บาท (3) เครื่องคอมพิวเตอร์โน้ตบุ๊ก สำหรับงานสำนักงาน 05105-15 พร้อมชุดโปรแกรมระบบปฏิบัติการ สำหรับเครื่องคอมพิวเตอร์โน้ตบุ๊ก ที่มีลิขสิทธิ์ถูกต้องตามกฎหมาย 1 เครื่อง 19,800 บาท\n",
      "05 4. ค่าครุภัณฑ์ ที่ดินและสิ่งก่อสร้าง 1,158,800 บาท (4) เครื่องผสมสัญญาณเสียง เครื่อง 1 05131-12 16,000 บาท\n",
      "05 4. ค่าครุภัณฑ์ ที่ดินและสิ่งก่อสร้าง 1,158,800 บาท (5) เครื่องทำลายเอกสาร แบบทำลายครั้งละ 05198-3 20 แผ่น 1 เครื่อง 32,000 บาท\n",
      "05 4. ค่าครุภัณฑ์ ที่ดินและสิ่งก่อสร้าง 1,158,800 บาท (6) เก้าอี้ทำงาน ปฏิบัติการ ระดับปฏิบัติงาน, 05198-5 ช ชำนาญการ ตัว านาญงาน, อาวุโส, 7 19,600 บาท\n",
      "05 4. ค่าครุภัณฑ์ ที่ดินและสิ่งก่อสร้าง 1,158,800 บาท (7) เก้าอี้สำนักงานมีล้อเลื่อน ตัว 8 05198-6 16,000 บาท\n",
      "05 4. ค่าครุภัณฑ์ ที่ดินและสิ่งก่อสร้าง 1,158,800 บาท (8) เครื่องฟอกอากาศ แบบฝังใต้เพดาน 05198-7 ขนาดความเร็วของแรงลมระดับสูงไม่ต่ำกว่า ซีเอฟเอ็ม พร้อมค่าติดตั้ง เครื่อง 500 3 149,400 บาท\n",
      "05 4. ค่าครุภัณฑ์ ที่ดินและสิ่งก่อสร้าง 1,158,800 บาท (9) รถบรรทุก (ดีเซล) ขนาด 1 ตัน 05208-13 ปริมาตรกระบอกสูบไม่ต่ำกว่า 2,400 ซีซี หรือ กำลังเครื่องยนต์สูงสุดไม่ต่ำกว่า 110 กิโลวัตต์ ขับเคลื่อน 2 ล้อ แบบดับเบิ้ลแคบ 1 คัน 787,000 บาท\n",
      "0101001 งานบริหารทั่วไป ปี 2561 18,829,800 บาท 0105 2. แผนงานส่งเสริมระบบบริหาร 634,359,600 บาท\n",
      "0105 2. แผนงานส่งเสริมระบบบริหาร 634,359,600 บาท 0105027 2.1 งานพัฒนาระบบงานคอมพิวเตอร์ ปี 2561 168,457,700 บาท\n",
      "0101001 งานบริหารทั่วไป ปี 2561 18,829,800 บาท 01 1. เงินเดือนและค่าจ้างประจำ 11,532,300 บาท\n",
      "01 1. เงินเดือนและค่าจ้างประจำ 11,532,300 บาท 01101-1 อัตราเดิม 27 อัตรา 8,822,900 บาท\n",
      "01 1. เงินเดือนและค่าจ้างประจำ 11,532,300 บาท 01102-1 เงินเลื่อนขั้น 529,700 บาท\n",
      "01 1. เงินเดือนและค่าจ้างประจำ 11,532,300 บาท 01106-1 เงินประจำตำแหน่ง 67,200 บาท\n"
     ]
    }
   ],
   "source": [
    "child_parent_table = dict()\n",
    "curr = None\n",
    "for entry, bullet in entry_bullet_table.items():\n",
    "    while (curr != None and bullet <= entry_bullet_table[curr]):\n",
    "        curr = child_parent_table[curr]\n",
    "    child_parent_table[entry] = curr\n",
    "    curr = entry\n",
    "\n",
    "for c, p in child_parent_table.items():\n",
    "    print(None if p is None else entry_text_table.loc[p], entry_text_table.loc[c])\n",
    "    if c > 30: break"
   ]
  },
  {
   "cell_type": "code",
   "execution_count": 150,
   "id": "ecb435b4",
   "metadata": {},
   "outputs": [
    {
     "name": "stdout",
     "output_type": "stream",
     "text": [
      "['01' 'ก.' 'ด้านการบริหารทั่วไป' '653,189,400' 'บาท']\n"
     ]
    }
   ],
   "source": [
    "for entry_label, entry_df in bb_with_entry.groupby('entry_label'):\n",
    "    print(entry_df.fix_text.values)"
   ]
  },
  {
   "cell_type": "code",
   "execution_count": 109,
   "id": "a903293b",
   "metadata": {},
   "outputs": [
    {
     "name": "stdout",
     "output_type": "stream",
     "text": [
      "pdf/61/A20171003163303.pdf\n",
      "pdf/61/A20171003164329.pdf\n",
      "pdf/61/A20171003170601.pdf\n",
      "pdf/62/A20181002170334.pdf\n",
      "pdf/64/topic2787_2020_10_06_10_18_31.pdf\n",
      "pdf/64/topic2787_2020_10_06_10_18_51.pdf\n"
     ]
    }
   ],
   "source": [
    "parent_child_key = dict()\n",
    "\n",
    "for pdf_name, pdf_df in bb_with_entry.groupby(['pdf']):\n",
    "    print(pdf_name)\n",
    "    prev_bullet_label = None\n",
    "    prev_entry_label = None\n",
    "    \n",
    "    entry_label_is_na = pdf_df.entry_label.isna()\n",
    "    \n",
    "    for entry, entry_df in pdf_df[~entry_label_is_na].groupby(['entry_label']):\n",
    "        bullet_label = entry_df[~entry_df.bullet_label.isna()].bullet_label.unique()[0]\n",
    "        entry_label = entry_df.entry_label.unique()[0]\n",
    "        \n",
    "        if prev_bullet_label is not None and bullet_label - prev_bullet_label > 0:\n",
    "            parent_child_key[entry_label] = prev_entry_label\n",
    "\n",
    "        prev_bullet_label = bullet_label\n",
    "        prev_entry_label = entry_label"
   ]
  },
  {
   "cell_type": "code",
   "execution_count": 110,
   "id": "c702179a",
   "metadata": {},
   "outputs": [
    {
     "data": {
      "text/plain": [
       "416"
      ]
     },
     "execution_count": 110,
     "metadata": {},
     "output_type": "execute_result"
    }
   ],
   "source": [
    "len(parent_child_key)"
   ]
  },
  {
   "cell_type": "code",
   "execution_count": null,
   "id": "0607f7f3",
   "metadata": {},
   "outputs": [],
   "source": []
  }
 ],
 "metadata": {
  "kernelspec": {
   "display_name": "Python 3 (ipykernel)",
   "language": "python",
   "name": "python3"
  },
  "language_info": {
   "codemirror_mode": {
    "name": "ipython",
    "version": 3
   },
   "file_extension": ".py",
   "mimetype": "text/x-python",
   "name": "python",
   "nbconvert_exporter": "python",
   "pygments_lexer": "ipython3",
   "version": "3.9.7"
  }
 },
 "nbformat": 4,
 "nbformat_minor": 5
}
