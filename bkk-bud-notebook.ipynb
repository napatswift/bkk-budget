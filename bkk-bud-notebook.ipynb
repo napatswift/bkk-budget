{
 "cells": [
  {
   "cell_type": "code",
   "execution_count": 1,
   "id": "42687750",
   "metadata": {},
   "outputs": [],
   "source": [
    "import pandas as pd\n",
    "import numpy as np\n",
    "from tqdm import tqdm\n",
    "from collections import defaultdict\n",
    "from sklearn.cluster import DBSCAN"
   ]
  },
  {
   "cell_type": "code",
   "execution_count": 2,
   "id": "9944bb46",
   "metadata": {},
   "outputs": [
    {
     "name": "stderr",
     "output_type": "stream",
     "text": [
      "/Users/napatswift/opt/anaconda3/lib/python3.9/site-packages/IPython/core/interactiveshell.py:3444: DtypeWarning: Columns (0,9) have mixed types.Specify dtype option on import or set low_memory=False.\n",
      "  exec(code_obj, self.user_global_ns, self.user_ns)\n"
     ]
    }
   ],
   "source": [
    "bb=pd.read_csv('bkk_budget_ocr.csv',index_col=0)\n",
    "bb=bb[~bb['pagenum'].isna()]"
   ]
  },
  {
   "cell_type": "code",
   "execution_count": 3,
   "id": "d2343934",
   "metadata": {},
   "outputs": [
    {
     "data": {
      "text/plain": [
       "385"
      ]
     },
     "execution_count": 3,
     "metadata": {},
     "output_type": "execute_result"
    }
   ],
   "source": [
    "# number of document\n",
    "len(bb.pdf.unique())"
   ]
  },
  {
   "cell_type": "code",
   "execution_count": 4,
   "id": "a3d028d8",
   "metadata": {},
   "outputs": [],
   "source": [
    "bb['pagenum'] = bb['pagenum'].astype(int)\n",
    "bb['text'] = bb['text'].astype(str)"
   ]
  },
  {
   "cell_type": "markdown",
   "id": "e37cf58c",
   "metadata": {},
   "source": [
    "select test set"
   ]
  },
  {
   "cell_type": "code",
   "execution_count": 5,
   "id": "ef17f3bf",
   "metadata": {},
   "outputs": [],
   "source": [
    "interested_doc = [\n",
    "    'pdf/61/A20171003163303.pdf', \n",
    "    'pdf/61/A20171003164329.pdf', \n",
    "    'pdf/61/A20171003170601.pdf', \n",
    "    'pdf/62/A20181002170334.pdf',\n",
    "    'pdf/64/topic2787_2020_10_06_10_18_31.pdf',\n",
    "    'pdf/64/topic2787_2020_10_06_10_18_51.pdf']"
   ]
  },
  {
   "cell_type": "markdown",
   "id": "ccbb33dd",
   "metadata": {},
   "source": [
    "create total sum of the document for validation"
   ]
  },
  {
   "cell_type": "code",
   "execution_count": 62,
   "id": "b25b1e8f",
   "metadata": {},
   "outputs": [],
   "source": [
    "answers = {\n",
    "    'pdf/61/A20171003163303.pdf': {'sum':691_229_200, 'start': 3},\n",
    "    'pdf/61/A20171003164329.pdf': {'sum': 386_943_640, 'start': 5},\n",
    "    'pdf/61/A20171003170601.pdf': {'sum': 365_299_840, 'start': 5},\n",
    "    'pdf/62/A20181002170334.pdf': {'sum': 357_892_000, 'start': 5},\n",
    "    'pdf/64/topic2787_2020_10_06_10_18_31.pdf': {'sum': 424_674_000, 'start': 5},\n",
    "    'pdf/64/topic2787_2020_10_06_10_18_51.pdf': {'sum': 398_016_000, 'start': 5},\n",
    "    }"
   ]
  },
  {
   "cell_type": "markdown",
   "id": "24387026",
   "metadata": {},
   "source": [
    "remove unwanted document (just for develop)"
   ]
  },
  {
   "cell_type": "code",
   "execution_count": 7,
   "id": "aced5c37",
   "metadata": {
    "scrolled": true
   },
   "outputs": [],
   "source": [
    "bb=bb[bb.pdf.isin(interested_doc)]"
   ]
  },
  {
   "cell_type": "markdown",
   "id": "d49764ed",
   "metadata": {},
   "source": [
    "fix text by dict"
   ]
  },
  {
   "cell_type": "code",
   "execution_count": 8,
   "id": "47b20c9b",
   "metadata": {},
   "outputs": [],
   "source": [
    "chr_fix_pair={'ำ': 'า','/า': 'ำ',}"
   ]
  },
  {
   "cell_type": "code",
   "execution_count": 9,
   "id": "fd5fe822",
   "metadata": {},
   "outputs": [],
   "source": [
    "def fix_pdf_text(old_text):\n",
    "    new_text = old_text.strip()\n",
    "    for o,n in chr_fix_pair.items():\n",
    "        new_text=new_text.replace(o,n)\n",
    "    return new_text\n",
    "\n",
    "bb=bb.assign(fix_text=bb.text.apply(fix_pdf_text))"
   ]
  },
  {
   "cell_type": "markdown",
   "id": "cb7c1b61",
   "metadata": {},
   "source": [
    "replace text from pdf with OCR text"
   ]
  },
  {
   "cell_type": "code",
   "execution_count": 10,
   "id": "76840f76",
   "metadata": {},
   "outputs": [],
   "source": [
    "bb.loc[~bb['ocr-text'].isna(), 'fix_text'] = bb[~bb['ocr-text'].isna()]['ocr-text']"
   ]
  },
  {
   "cell_type": "code",
   "execution_count": null,
   "id": "e9bff703",
   "metadata": {},
   "outputs": [],
   "source": []
  },
  {
   "cell_type": "code",
   "execution_count": 58,
   "id": "fe10e417",
   "metadata": {
    "scrolled": true
   },
   "outputs": [
    {
     "name": "stderr",
     "output_type": "stream",
     "text": [
      "100%|█████████████████████████████████████████| 221/221 [00:55<00:00,  4.02it/s]\n"
     ]
    }
   ],
   "source": [
    "max_dist = 0.7\n",
    "for g, idx in tqdm(bb.groupby('image_path').groups.items()):\n",
    "    out = bb.loc[idx][['x0', 'x1', 'y0', 'y1']]\n",
    "    out['h'] = out.y1 - out.y0\n",
    "    num_bboxes = len(idx)\n",
    "    idx2idx = {j:i for i,j in enumerate(idx)}\n",
    "    n_dist_mat = np.ones((num_bboxes, num_bboxes))\n",
    "    dist_mat = np.ones((num_bboxes, num_bboxes))\n",
    "    \n",
    "    for i in range(num_bboxes):\n",
    "        a = out.iloc[i]\n",
    "        _out=out.loc[idx[i:]]\n",
    "        _skip = (a.y0 > _out.y1) | (_out.y0 > a.y1)\n",
    "        _out = _out[~_skip]\n",
    "        intersection = np.minimum(a.y1, _out.y1) - np.maximum(a.y0, _out.y0)\n",
    "        union = a.h + _out.h - intersection\n",
    "        iou = np.clip(intersection / (union + 1e-10), 0, 1)\n",
    "        \n",
    "        idicies = [idx2idx[i] for i in iou.index]\n",
    "\n",
    "        n_dist_mat[i, idicies] = 1-iou.values\n",
    "        n_dist_mat[idicies, i] = 1-iou.values\n",
    "        \n",
    "        continue\n",
    "        iou_list=[]\n",
    "        for j in range(i, num_bboxes):\n",
    "            b = out.iloc[j]\n",
    "\n",
    "            if a.y0 > b.y1 or b.y0 > a.y1:\n",
    "                continue\n",
    "\n",
    "            intersection = min(a.y1, b.y1) - max(a.y0, b.y0)\n",
    "            union = a.h + b.h - intersection\n",
    "            iou = np.clip(intersection / union if union > 0 else 0, 0, 1)\n",
    "            iou_list.append(iou)\n",
    "            dist_mat[i, j] = dist_mat[j, i] = 1 - iou\n",
    "\n",
    "    dbscan = DBSCAN(eps=max_dist, min_samples=0, metric='precomputed').fit(n_dist_mat)\n",
    "    clustered = defaultdict(list)\n",
    "    bb.loc[idx, 'line_label'] = dbscan.labels_\n",
    "    \n",
    "    continue\n",
    "    for i, cluster_id in enumerate(dbscan.labels_):\n",
    "        if cluster_id == -1:\n",
    "            continue\n",
    "        clustered[cluster_id].append(idx[i])\n",
    "\n",
    "    res = sorted(clustered.values(), key=lambda line: [bb.loc[det].y1 / 2 for det in line])\n",
    "    pinrt([[bb.loc[b].fix_text for b in line] for line in res])"
   ]
  },
  {
   "cell_type": "code",
   "execution_count": 25,
   "id": "6e3a1ba7",
   "metadata": {},
   "outputs": [],
   "source": [
    "# dist_mat,n_dist_mat"
   ]
  },
  {
   "cell_type": "code",
   "execution_count": 55,
   "id": "ac6c2215",
   "metadata": {},
   "outputs": [],
   "source": [
    "bb.loc[:, 'line_label'] = bb.line_label.astype(int)"
   ]
  },
  {
   "cell_type": "code",
   "execution_count": 60,
   "id": "4024bdda",
   "metadata": {},
   "outputs": [],
   "source": [
    "# bb[~bb.line_label.isna()]"
   ]
  },
  {
   "cell_type": "code",
   "execution_count": 61,
   "id": "c86ed7a9",
   "metadata": {},
   "outputs": [
    {
     "data": {
      "text/plain": [
       "array([['223', 0],\n",
       "       ['สำนักงานเขตทุ่งครุ', 1],\n",
       "       ['งบประมาณรายจ่าย', 2],\n",
       "       ['ปี', 3],\n",
       "       ['2560', 3],\n",
       "       ['348,560,900', 3],\n",
       "       ['บาท', 3],\n",
       "       ['ปี', 4],\n",
       "       ['2561', 4],\n",
       "       ['365,299,840', 4],\n",
       "       ['บาท', 4],\n",
       "       ['รายจ่ายประจำ', 5],\n",
       "       ['365,299,840', 5],\n",
       "       ['บาท', 5],\n",
       "       ['รหัส', 6],\n",
       "       ['รายจ่ายประจำ', 6],\n",
       "       ['01', 7],\n",
       "       ['ก.', 7],\n",
       "       ['ด้านการบริหารทั่วไป', 7],\n",
       "       ['36,289,140', 7],\n",
       "       ['บาท', 7],\n",
       "       ['0102', 8],\n",
       "       ['1.', 8],\n",
       "       ['แผนงานบริหารงานปกครอง', 8],\n",
       "       ['และทะเบียน', 9],\n",
       "       ['26,964,640', 9],\n",
       "       ['บาท', 9],\n",
       "       ['0102002', 10],\n",
       "       ['1.1', 10],\n",
       "       ['งานปกครอง', 10],\n",
       "       ['20,356,140', 10],\n",
       "       ['บาท', 10],\n",
       "       ['0102003', 11],\n",
       "       ['1.2', 11],\n",
       "       ['งานทะเบียน', 11],\n",
       "       ['6,608,500', 11],\n",
       "       ['บาท', 11],\n",
       "       ['0103', 12],\n",
       "       ['2.', 12],\n",
       "       ['แผนงานบริหารการคลัง', 12],\n",
       "       ['9,324,500', 12],\n",
       "       ['บาท', 12],\n",
       "       ['0103005', 13],\n",
       "       ['2.1', 13],\n",
       "       ['งานบริหารการคลัง', 13],\n",
       "       ['5,048,000', 13],\n",
       "       ['บาท', 13],\n",
       "       ['0103006', 14],\n",
       "       ['2.2', 14],\n",
       "       ['งานบริหารการจัดเก็บรายได้', 14],\n",
       "       ['4,276,500', 14],\n",
       "       ['บาท', 14],\n",
       "       ['02', 15],\n",
       "       ['ข.', 15],\n",
       "       ['ด้านการรักษาความสะอาด', 15],\n",
       "       ['และความเป็นระเบียบเรียบร้อย', 16],\n",
       "       ['114,967,400', 16],\n",
       "       ['บาท', 16],\n",
       "       ['0207', 17],\n",
       "       ['1.', 17],\n",
       "       ['แผนงานรักษาความสะอาด', 17],\n",
       "       ['102,516,800', 17],\n",
       "       ['บาท', 17],\n",
       "       ['0207027', 18],\n",
       "       ['งานรักษาความสะอาด', 18],\n",
       "       ['102,516,800', 18],\n",
       "       ['บาท', 18],\n",
       "       ['0208', 19],\n",
       "       ['2.', 19],\n",
       "       ['แผนงานรักษาความเป็นระเบียบ', 19],\n",
       "       ['เรียบร้อย', 20],\n",
       "       ['12,450,600', 20],\n",
       "       ['บาท', 20],\n",
       "       ['0208031', 21],\n",
       "       ['งานบริหารและบังคับการเทศกิจ', 21],\n",
       "       ['12,450,600', 21],\n",
       "       ['บาท', 21],\n",
       "       ['03', 22],\n",
       "       ['ค.', 22],\n",
       "       ['ด้านการโยธาและระบบจราจร', 22],\n",
       "       ['70,149,200', 22],\n",
       "       ['บาท', 22],\n",
       "       ['0310', 23],\n",
       "       ['แผนงานการโยธา', 23],\n",
       "       ['70,149,200', 23],\n",
       "       ['บาท', 23],\n",
       "       ['0310037', 24],\n",
       "       ['งานการโยธา', 24],\n",
       "       ['70,149,200', 24],\n",
       "       ['บาท', 24],\n",
       "       ['04', 25],\n",
       "       ['ง.', 25],\n",
       "       ['ด้านการระบายนำและบำบัดนำเสีย', 25],\n",
       "       ['12,230,600', 25],\n",
       "       ['บาท', 25],\n",
       "       ['0413', 26],\n",
       "       ['แผนงานจัดการระบายนำ', 26],\n",
       "       ['และแก้ไขปัญหานำท่วม', 27],\n",
       "       ['12,230,600', 27],\n",
       "       ['บาท', 27]], dtype=object)"
      ]
     },
     "execution_count": 61,
     "metadata": {},
     "output_type": "execute_result"
    }
   ],
   "source": [
    "bb[~bb.line_label.isna()][['fix_text', 'line_label']].values[:100]"
   ]
  },
  {
   "cell_type": "code",
   "execution_count": null,
   "id": "826036fe",
   "metadata": {},
   "outputs": [],
   "source": []
  },
  {
   "cell_type": "code",
   "execution_count": null,
   "id": "9d7e6621",
   "metadata": {},
   "outputs": [],
   "source": []
  }
 ],
 "metadata": {
  "kernelspec": {
   "display_name": "Python 3 (ipykernel)",
   "language": "python",
   "name": "python3"
  },
  "language_info": {
   "codemirror_mode": {
    "name": "ipython",
    "version": 3
   },
   "file_extension": ".py",
   "mimetype": "text/x-python",
   "name": "python",
   "nbconvert_exporter": "python",
   "pygments_lexer": "ipython3",
   "version": "3.9.7"
  }
 },
 "nbformat": 4,
 "nbformat_minor": 5
}
