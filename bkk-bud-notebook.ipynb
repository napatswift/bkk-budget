{
 "cells": [
  {
   "cell_type": "code",
   "execution_count": null,
   "id": "42687750",
   "metadata": {},
   "outputs": [],
   "source": [
    "import pandas as pd\n",
    "import numpy as np\n",
    "from tqdm import tqdm\n",
    "from collections import defaultdict\n",
    "from sklearn.cluster import DBSCAN"
   ]
  },
  {
   "cell_type": "code",
   "execution_count": null,
   "id": "9944bb46",
   "metadata": {},
   "outputs": [],
   "source": [
    "_bb=pd.read_csv('bkk_budget_ocr.csv',index_col=0)\n",
    "_bb=_bb[~_bb['pagenum'].isna()]"
   ]
  },
  {
   "cell_type": "code",
   "execution_count": null,
   "id": "d2343934",
   "metadata": {},
   "outputs": [],
   "source": [
    "# number of document\n",
    "len(_bb.pdf.unique())"
   ]
  },
  {
   "cell_type": "code",
   "execution_count": null,
   "id": "a3d028d8",
   "metadata": {},
   "outputs": [],
   "source": [
    "_bb['pagenum'] = _bb['pagenum'].astype(int)\n",
    "_bb['text'] = _bb['text'].astype(str)"
   ]
  },
  {
   "cell_type": "markdown",
   "id": "e37cf58c",
   "metadata": {},
   "source": [
    "select test set"
   ]
  },
  {
   "cell_type": "code",
   "execution_count": null,
   "id": "ef17f3bf",
   "metadata": {},
   "outputs": [],
   "source": [
    "interested_doc = [\n",
    "    'pdf/61/A20171003163303.pdf', \n",
    "    'pdf/61/A20171003164329.pdf', \n",
    "    'pdf/61/A20171003170601.pdf', \n",
    "    'pdf/62/A20181002170334.pdf',\n",
    "    'pdf/64/topic2787_2020_10_06_10_18_31.pdf',\n",
    "    'pdf/64/topic2787_2020_10_06_10_18_51.pdf']"
   ]
  },
  {
   "cell_type": "markdown",
   "id": "ccbb33dd",
   "metadata": {},
   "source": [
    "create total sum of the document for validation"
   ]
  },
  {
   "cell_type": "code",
   "execution_count": null,
   "id": "b25b1e8f",
   "metadata": {},
   "outputs": [],
   "source": [
    "answers = {\n",
    "    'pdf/61/A20171003163303.pdf': {'sum':691_229_200, 'start': 3},\n",
    "    'pdf/61/A20171003164329.pdf': {'sum': 386_943_640, 'start': 5},\n",
    "    'pdf/61/A20171003170601.pdf': {'sum': 365_299_840, 'start': 5},\n",
    "    'pdf/62/A20181002170334.pdf': {'sum': 357_892_000, 'start': 5},\n",
    "    'pdf/64/topic2787_2020_10_06_10_18_31.pdf': {'sum': 424_674_000, 'start': 5},\n",
    "    'pdf/64/topic2787_2020_10_06_10_18_51.pdf': {'sum': 398_016_000, 'start': 5},\n",
    "    }"
   ]
  },
  {
   "cell_type": "markdown",
   "id": "24387026",
   "metadata": {},
   "source": [
    "remove unwanted document (just for develop)"
   ]
  },
  {
   "cell_type": "code",
   "execution_count": null,
   "id": "aced5c37",
   "metadata": {
    "scrolled": true
   },
   "outputs": [],
   "source": [
    "bb=_bb[_bb.pdf.isin(interested_doc)]"
   ]
  },
  {
   "cell_type": "markdown",
   "id": "d49764ed",
   "metadata": {},
   "source": [
    "fix text by dict"
   ]
  },
  {
   "cell_type": "code",
   "execution_count": null,
   "id": "47b20c9b",
   "metadata": {},
   "outputs": [],
   "source": [
    "chr_fix_pair={'ำ': 'า','/า': 'ำ',}"
   ]
  },
  {
   "cell_type": "code",
   "execution_count": null,
   "id": "fd5fe822",
   "metadata": {},
   "outputs": [],
   "source": [
    "def fix_pdf_text(old_text):\n",
    "    new_text = old_text.strip()\n",
    "    for o,n in chr_fix_pair.items():\n",
    "        new_text=new_text.replace(o,n)\n",
    "    return new_text\n",
    "\n",
    "bb=bb.assign(fix_text=bb.text.apply(fix_pdf_text))"
   ]
  },
  {
   "cell_type": "markdown",
   "id": "cb7c1b61",
   "metadata": {},
   "source": [
    "replace text from pdf with OCR text"
   ]
  },
  {
   "cell_type": "code",
   "execution_count": null,
   "id": "76840f76",
   "metadata": {},
   "outputs": [],
   "source": [
    "bb.loc[~bb['ocr-text'].isna(), 'fix_text'] = bb[~bb['ocr-text'].isna()]['ocr-text']"
   ]
  },
  {
   "cell_type": "markdown",
   "id": "2cac1203",
   "metadata": {},
   "source": [
    "group line"
   ]
  },
  {
   "cell_type": "code",
   "execution_count": null,
   "id": "fe10e417",
   "metadata": {
    "scrolled": true
   },
   "outputs": [],
   "source": [
    "max_dist = 0.7\n",
    "dbscan = DBSCAN(eps=max_dist, min_samples=0, metric='precomputed')\n",
    "for g, idx in tqdm(bb.groupby('image_path').groups.items()):\n",
    "    out = bb.loc[idx][['x0', 'x1', 'y0', 'y1']]\n",
    "    out['h'] = out.y1 - out.y0\n",
    "    num_bboxes = len(idx)\n",
    "    idx2idx = {j:i for i,j in enumerate(idx)}\n",
    "    n_dist_mat = np.ones((num_bboxes, num_bboxes))\n",
    "    dist_mat = np.ones((num_bboxes, num_bboxes))\n",
    "    \n",
    "    for i in range(num_bboxes):\n",
    "        a = out.iloc[i]\n",
    "        _out=out.loc[idx[i:]]\n",
    "        _skip = (a.y0 > _out.y1) | (_out.y0 > a.y1)\n",
    "        _out = _out[~_skip]\n",
    "        intersection = np.minimum(a.y1, _out.y1) - np.maximum(a.y0, _out.y0)\n",
    "        union = a.h + _out.h - intersection\n",
    "        iou = np.clip(intersection / (union + 1e-10), 0, 1)\n",
    "        idicies = [idx2idx[i] for i in iou.index]\n",
    "        n_dist_mat[i, idicies] = n_dist_mat[idicies, i] = 1-iou.values\n",
    "\n",
    "    fdbscan = dbscan.fit(n_dist_mat)\n",
    "    bb.loc[idx, 'line_label'] = fdbscan.labels_"
   ]
  },
  {
   "cell_type": "code",
   "execution_count": null,
   "id": "ac6c2215",
   "metadata": {},
   "outputs": [],
   "source": [
    "bb.loc[:, 'line_label'] = bb.line_label.astype(int)"
   ]
  },
  {
   "cell_type": "markdown",
   "id": "f158bc2a",
   "metadata": {},
   "source": [
    "# Try to parse"
   ]
  },
  {
   "cell_type": "code",
   "execution_count": null,
   "id": "612aabd1",
   "metadata": {},
   "outputs": [],
   "source": [
    "import re\n",
    "def get_patern_of_bullet(String):\n",
    "    regx = [\n",
    "        ('^0\\d+(-\\d+)?$', 70),\n",
    "        ('^\\(\\d*(\\.?\\d*)*\\)$', 50),\n",
    "        ('^[1-9]\\d*(\\.[1-9]\\d*)*\\)$', 20),\n",
    "        ('^[1-9]\\d*(\\.[1-9]\\d*)+$', 5),\n",
    "        ('^[1-9]\\d*\\.$', 4),\n",
    "        ('^งาน', 3),\n",
    "        ('^แผนงาน', 2),\n",
    "        ('^ด้าน', 1),\n",
    "    ]\n",
    "\n",
    "    for r, l in regx:\n",
    "        if re.match(r, String):\n",
    "            if l in [5, 20, 50]:\n",
    "                l = String.count('.') + l\n",
    "            return r, l\n",
    "    return '', 0"
   ]
  },
  {
   "cell_type": "code",
   "execution_count": null,
   "id": "bbf2be5a",
   "metadata": {},
   "outputs": [],
   "source": [
    "bb_with_entry = bb.copy()"
   ]
  },
  {
   "cell_type": "code",
   "execution_count": null,
   "id": "c86ed7a9",
   "metadata": {},
   "outputs": [],
   "source": [
    "entry_label_id = 0\n",
    "\n",
    "is_entry = False\n",
    "for (pdf_name, pdf_page_index), page_df in bb[~bb.line_label.isna()].groupby(['pdf','pagenum']):\n",
    "    if pdf_page_index + 1 < answers[pdf_name]['start']: continue\n",
    "    for line_num, line_df in page_df.groupby('line_label'):\n",
    "        if (line_df.fix_text == 'รายละเอียดรายจ่าย').any(): continue\n",
    "        if (line_df.fix_text.isin(['ปี', '2560', 'บาท'])).sum() == 3:\n",
    "            continue\n",
    "        if line_num == 0: continue\n",
    "        text_line = line_df.sort_values(by='x0',ascending=True).fix_text.values\n",
    "        is_new_entry = get_patern_of_bullet(text_line[0])[1]\n",
    "        \n",
    "        if is_new_entry != 0:\n",
    "            entry_label_id += 1\n",
    "            bb_with_entry.loc[line_df.index, 'bullet_label'] = is_new_entry\n",
    "            is_entry = True\n",
    "\n",
    "        if is_entry:\n",
    "            bb_with_entry.loc[line_df.index, 'entry_label'] = entry_label_id\n",
    "\n",
    "        is_last_token_baht = text_line[-1] == 'บาท'\n",
    "        if is_last_token_baht:\n",
    "            is_entry = False"
   ]
  },
  {
   "cell_type": "code",
   "execution_count": null,
   "id": "574ad46c",
   "metadata": {
    "scrolled": false
   },
   "outputs": [],
   "source": [
    "# test print by entry\n",
    "bb_with_entry.iloc[:600]\\\n",
    "    .groupby(['pdf','pagenum', 'entry_label'])\\\n",
    "    .apply(lambda x: (x.iloc[0].entry_label,\n",
    "                      np.unique(x.bullet_label.values.tolist()),\n",
    "                      ' '.join(x.fix_text.values.tolist())\n",
    "                     )\n",
    "          )\\\n",
    "    .to_list()"
   ]
  },
  {
   "cell_type": "code",
   "execution_count": null,
   "id": "c3dc1e0b",
   "metadata": {},
   "outputs": [],
   "source": [
    "for pdf_name, pdf_df in bb_with_entry.groupby(['pdf']):\n",
    "    print(pdf_name)\n",
    "    entry_label_is_na = pdf_df.entry_label.isna()\n",
    "    for entry, entry_df in pdf_df[~entry_label_is_na].groupby(['entry_label']):\n",
    "        print(entry_df.sort_values(['line_label','x0'],).fix_text.values.tolist())"
   ]
  },
  {
   "cell_type": "code",
   "execution_count": null,
   "id": "69c21f14",
   "metadata": {},
   "outputs": [],
   "source": []
  }
 ],
 "metadata": {
  "kernelspec": {
   "display_name": "Python 3 (ipykernel)",
   "language": "python",
   "name": "python3"
  },
  "language_info": {
   "codemirror_mode": {
    "name": "ipython",
    "version": 3
   },
   "file_extension": ".py",
   "mimetype": "text/x-python",
   "name": "python",
   "nbconvert_exporter": "python",
   "pygments_lexer": "ipython3",
   "version": "3.9.7"
  }
 },
 "nbformat": 4,
 "nbformat_minor": 5
}
