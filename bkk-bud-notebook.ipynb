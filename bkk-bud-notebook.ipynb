{
 "cells": [
  {
   "cell_type": "code",
   "execution_count": null,
   "id": "42687750",
   "metadata": {},
   "outputs": [],
   "source": [
    "import pandas as pd\n",
    "import numpy as np\n",
    "from tqdm import tqdm\n",
    "from collections import defaultdict\n",
    "from sklearn.cluster import DBSCAN"
   ]
  },
  {
   "cell_type": "code",
   "execution_count": null,
   "id": "9944bb46",
   "metadata": {},
   "outputs": [],
   "source": [
    "_bb=pd.read_csv('bkk_budget_ocr.csv',index_col=0)\n",
    "_bb=_bb[~_bb['pagenum'].isna()]"
   ]
  },
  {
   "cell_type": "code",
   "execution_count": null,
   "id": "d2343934",
   "metadata": {},
   "outputs": [],
   "source": [
    "# number of document\n",
    "len(_bb.pdf.unique())"
   ]
  },
  {
   "cell_type": "code",
   "execution_count": null,
   "id": "a3d028d8",
   "metadata": {},
   "outputs": [],
   "source": [
    "_bb['pagenum'] = _bb['pagenum'].astype(int)\n",
    "_bb['text'] = _bb['text'].astype(str)"
   ]
  },
  {
   "cell_type": "markdown",
   "id": "e37cf58c",
   "metadata": {},
   "source": [
    "select test set"
   ]
  },
  {
   "cell_type": "code",
   "execution_count": null,
   "id": "ef17f3bf",
   "metadata": {},
   "outputs": [],
   "source": [
    "interested_doc = [\n",
    "    'pdf/61/A20171003163303.pdf', \n",
    "    'pdf/61/A20171003164329.pdf', \n",
    "    'pdf/61/A20171003170601.pdf', \n",
    "    'pdf/62/A20181002170334.pdf',\n",
    "    'pdf/64/topic2787_2020_10_06_10_18_31.pdf',\n",
    "    'pdf/64/topic2787_2020_10_06_10_18_51.pdf']"
   ]
  },
  {
   "cell_type": "markdown",
   "id": "ccbb33dd",
   "metadata": {},
   "source": [
    "create total sum of the document for validation"
   ]
  },
  {
   "cell_type": "code",
   "execution_count": null,
   "id": "b25b1e8f",
   "metadata": {},
   "outputs": [],
   "source": [
    "answers = {\n",
    "    'pdf/61/A20171003163303.pdf': {'sum':691_229_200, 'start': 3},\n",
    "    'pdf/61/A20171003164329.pdf': {'sum': 386_943_640, 'start': 5},\n",
    "    'pdf/61/A20171003170601.pdf': {'sum': 365_299_840, 'start': 5},\n",
    "    'pdf/62/A20181002170334.pdf': {'sum': 357_892_000, 'start': 5},\n",
    "    'pdf/64/topic2787_2020_10_06_10_18_31.pdf': {'sum': 424_674_000, 'start': 5},\n",
    "    'pdf/64/topic2787_2020_10_06_10_18_51.pdf': {'sum': 398_016_000, 'start': 5},\n",
    "    }"
   ]
  },
  {
   "cell_type": "markdown",
   "id": "24387026",
   "metadata": {},
   "source": [
    "remove unwanted document (just for develop)"
   ]
  },
  {
   "cell_type": "code",
   "execution_count": null,
   "id": "aced5c37",
   "metadata": {
    "scrolled": true
   },
   "outputs": [],
   "source": [
    "bb=_bb[_bb.pdf.isin(interested_doc)]"
   ]
  },
  {
   "cell_type": "markdown",
   "id": "d49764ed",
   "metadata": {},
   "source": [
    "fix text by dict"
   ]
  },
  {
   "cell_type": "code",
   "execution_count": null,
   "id": "47b20c9b",
   "metadata": {},
   "outputs": [],
   "source": [
    "chr_fix_pair={'ำ': 'า','/า': 'ำ', '/้า': '้ำ'}"
   ]
  },
  {
   "cell_type": "code",
   "execution_count": null,
   "id": "fd5fe822",
   "metadata": {},
   "outputs": [],
   "source": [
    "def fix_pdf_text(old_text):\n",
    "    new_text = old_text.strip()\n",
    "    for o,n in chr_fix_pair.items():\n",
    "        new_text=new_text.replace(o,n)\n",
    "    return new_text\n",
    "\n",
    "bb=bb.assign(fix_text=bb.text.apply(fix_pdf_text))"
   ]
  },
  {
   "cell_type": "markdown",
   "id": "cb7c1b61",
   "metadata": {},
   "source": [
    "replace text from pdf with OCR text"
   ]
  },
  {
   "cell_type": "code",
   "execution_count": null,
   "id": "76840f76",
   "metadata": {},
   "outputs": [],
   "source": [
    "bb.loc[~bb['ocr-text'].isna(), 'fix_text'] = bb[~bb['ocr-text'].isna()]['ocr-text']"
   ]
  },
  {
   "cell_type": "markdown",
   "id": "8a2d6a8b",
   "metadata": {},
   "source": [
    "group line"
   ]
  },
  {
   "cell_type": "code",
   "execution_count": null,
   "id": "fe10e417",
   "metadata": {
    "scrolled": true
   },
   "outputs": [],
   "source": [
    "max_dist = 0.7\n",
    "dbscan = DBSCAN(eps=max_dist, min_samples=0, metric='precomputed')\n",
    "for g, idx in tqdm(bb.groupby('image_path').groups.items()):\n",
    "    out = bb.loc[idx][['x0', 'x1', 'y0', 'y1']]\n",
    "    out['h'] = out.y1 - out.y0\n",
    "    num_bboxes = len(idx)\n",
    "    idx2idx = {j:i for i,j in enumerate(idx)}\n",
    "    n_dist_mat = np.ones((num_bboxes, num_bboxes))\n",
    "    dist_mat = np.ones((num_bboxes, num_bboxes))\n",
    "    \n",
    "    for i in range(num_bboxes):\n",
    "        a = out.iloc[i]\n",
    "        _out=out.loc[idx[i:]]\n",
    "        _skip = (a.y0 > _out.y1) | (_out.y0 > a.y1)\n",
    "        _out = _out[~_skip]\n",
    "        intersection = np.minimum(a.y1, _out.y1) - np.maximum(a.y0, _out.y0)\n",
    "        union = a.h + _out.h - intersection\n",
    "        iou = np.clip(intersection / (union + 1e-10), 0, 1)\n",
    "        idicies = [idx2idx[i] for i in iou.index]\n",
    "        n_dist_mat[i, idicies] = n_dist_mat[idicies, i] = 1-iou.values\n",
    "\n",
    "    fdbscan = dbscan.fit(n_dist_mat)\n",
    "    bb.loc[idx, 'line_label'] = fdbscan.labels_"
   ]
  },
  {
   "cell_type": "code",
   "execution_count": null,
   "id": "ac6c2215",
   "metadata": {},
   "outputs": [],
   "source": [
    "bb.loc[:, 'line_label'] = bb.line_label.astype(int)"
   ]
  },
  {
   "cell_type": "code",
   "execution_count": null,
   "id": "061544a8",
   "metadata": {},
   "outputs": [],
   "source": [
    "bb=bb.assign(fisical_year=bb.pdf.apply(lambda v: int(re.findall('/6\\d/', v)[0][1:-1])))"
   ]
  },
  {
   "cell_type": "code",
   "execution_count": null,
   "id": "f4833f13",
   "metadata": {},
   "outputs": [],
   "source": [
    "# bb.sort_values(['fisical_year', 'pagenum', 'line_label', 'y0', 'x0'])"
   ]
  },
  {
   "cell_type": "markdown",
   "id": "a86b1e36",
   "metadata": {},
   "source": [
    "# Try to parse"
   ]
  },
  {
   "cell_type": "code",
   "execution_count": null,
   "id": "5daa74d9",
   "metadata": {},
   "outputs": [],
   "source": [
    "import re\n",
    "def get_patern_of_bullet(String):\n",
    "    regx = [\n",
    "        ('^0[-\\d]+$', 70),\n",
    "        ('^\\(\\d*(\\.?\\d*)*\\)$', 50),\n",
    "        ('^[1-9]\\d*(\\.[1-9]\\d*)*\\)$', 20),\n",
    "        ('^[1-9]\\d*(\\.[1-9]\\d*)+$', 5),\n",
    "        ('^[1-9]\\d*\\.$', 4),\n",
    "        ('^งาน', 3),\n",
    "        ('^แผนงาน', 2),\n",
    "        ('^[\\u0E00-\\u0E7F]\\.$', 1)\n",
    "    ]\n",
    "    \n",
    "    if String in ['ด้านการจัดบริการของสำนักงานเขต',\n",
    "                  'ด้านการบริหารจัดการและบริหารราชการกรุงเทพมหานคร',\n",
    "                  'ด้านการศึกษา',\n",
    "                  'ด้านความปลอดภัยและความเป็นระเบียบเรียบร้อย',\n",
    "                  'ด้านทรัพยากรธรรมชาติและสิ่งแวดล้อม',\n",
    "                  'ด้านพัฒนาสังคมและชุมชนเมือง',\n",
    "                  'ด้านสาธารณสุข',\n",
    "                  'ด้านเมืองและการพัฒนาเมือง',\n",
    "                  'ด้านเศรษฐกิจและการพาณิชย์']: return ('ด้าน',1)\n",
    "\n",
    "    for r, l in regx:\n",
    "        if re.match(r, String):\n",
    "            if l in [5, 20, 50]:\n",
    "                l = String.count('.') + l\n",
    "            if r == '^งาน' and String == 'งานที่จะทำ': continue\n",
    "            return r, l\n",
    "    return '', 0"
   ]
  },
  {
   "cell_type": "code",
   "execution_count": null,
   "id": "5c457348",
   "metadata": {},
   "outputs": [],
   "source": [
    "bb_with_entry = bb.copy()"
   ]
  },
  {
   "cell_type": "code",
   "execution_count": null,
   "id": "c86ed7a9",
   "metadata": {},
   "outputs": [],
   "source": [
    "entry_label_id = 0\n",
    "\n",
    "is_entry = False\n",
    "for (pdf_name, pdf_page_index), page_df in tqdm(bb[~bb.line_label.isna()].groupby(['pdf','pagenum'])):\n",
    "    if pdf_page_index + 1 < answers[pdf_name]['start']: continue\n",
    "    for line_num, line_df in page_df.groupby('line_label'):\n",
    "        if (line_df.fix_text == 'รายละเอียดรายจ่าย').any(): continue\n",
    "\n",
    "        if (line_df.fix_text.isin(['ปี', '2560', 'บาท'])).sum() == 3:\n",
    "            continue\n",
    "\n",
    "        if line_num == 0: continue\n",
    "\n",
    "        text_line = line_df.sort_values(by='x0',ascending=True).fix_text.values\n",
    "        bullet_code = get_patern_of_bullet(text_line[0])[1]\n",
    "        \n",
    "        if bullet_code == 70:\n",
    "            if len(text_line) > 1:\n",
    "                second_bullet = get_patern_of_bullet(text_line[1])[1]\n",
    "                if second_bullet != 0: bullet_code = second_bullet\n",
    "            if len(text_line) > 2:\n",
    "                third_bullet = get_patern_of_bullet(text_line[2])[1]\n",
    "                if third_bullet != 0: bullet_code = third_bullet\n",
    "        \n",
    "        if bullet_code != 0:\n",
    "            entry_label_id += 1\n",
    "            bb_with_entry.loc[line_df.index, 'bullet_label'] = bullet_code\n",
    "            is_entry = True\n",
    "\n",
    "        if is_entry:\n",
    "            bb_with_entry.loc[line_df.index, 'entry_label'] = entry_label_id\n",
    "\n",
    "        is_last_token_baht = text_line[-1] == 'บาท'\n",
    "        if is_last_token_baht:\n",
    "            is_entry = False"
   ]
  },
  {
   "cell_type": "code",
   "execution_count": null,
   "id": "082a5ffe",
   "metadata": {},
   "outputs": [],
   "source": [
    "# inspect them\n",
    "start_entry=bb_with_entry[~bb_with_entry.bullet_label.isna()].groupby(['pdf','pagenum','entry_label']).x0.min()\n",
    "start_entry.mean(),start_entry.std(),start_entry.mean()+start_entry.std(),start_entry.max()"
   ]
  },
  {
   "cell_type": "code",
   "execution_count": null,
   "id": "c59fa3f3",
   "metadata": {},
   "outputs": [],
   "source": [
    "# bb_with_entry[~bb_with_entry.bullet_label.isna() & (bb_with_entry.x0 < 400 )].fix_text.values.tolist()"
   ]
  },
  {
   "cell_type": "code",
   "execution_count": null,
   "id": "8bc84365",
   "metadata": {
    "scrolled": false
   },
   "outputs": [],
   "source": [
    "# test print by entry\n",
    "bb_with_entry.iloc[:600]\\\n",
    "    .groupby(['pdf','pagenum', 'entry_label'])\\\n",
    "    .apply(lambda x: (x.iloc[0].entry_label,\n",
    "                      np.unique(x.bullet_label.values.tolist()),\n",
    "                      ' '.join(x.fix_text.values.tolist())\n",
    "                     )\n",
    "          )\\\n",
    "    .to_list();"
   ]
  },
  {
   "cell_type": "markdown",
   "id": "6ab3bed5",
   "metadata": {},
   "source": [
    "Relation extraction\n",
    "\n",
    "pairing parent node with child nodes"
   ]
  },
  {
   "cell_type": "code",
   "execution_count": null,
   "id": "aea68e56",
   "metadata": {},
   "outputs": [],
   "source": [
    "bb_with_entry[bb_with_entry.entry_label == 1].pdf.iloc[0]"
   ]
  },
  {
   "cell_type": "code",
   "execution_count": null,
   "id": "6908785c",
   "metadata": {},
   "outputs": [],
   "source": [
    "entry_bullet_table = bb_with_entry.groupby('entry_label').apply(lambda x: x.bullet_label.unique()[0])\n",
    "entry_page_num_table = bb_with_entry.groupby('entry_label').apply(lambda x: x.pagenum.unique()[0])\n",
    "entry_text_table = bb_with_entry.groupby('entry_label').apply(lambda x: ' '.join(x.fix_text.values))"
   ]
  },
  {
   "cell_type": "code",
   "execution_count": null,
   "id": "08e97bc1",
   "metadata": {},
   "outputs": [],
   "source": [
    "child_parent_table = dict()\n",
    "curr = None\n",
    "for entry, bullet in entry_bullet_table.items():\n",
    "    while (curr != None and bullet <= entry_bullet_table[curr]):\n",
    "        curr = child_parent_table[curr]\n",
    "    child_parent_table[entry] = curr\n",
    "    curr = entry\n",
    "\n",
    "# for c, p in child_parent_table.items():\n",
    "#     print(c,p)\n",
    "#     print(p, None if p is None else entry_text_table.loc[p], c,entry_text_table.loc[c])\n",
    "#     if c > 30: break"
   ]
  },
  {
   "cell_type": "code",
   "execution_count": null,
   "id": "0607f7f3",
   "metadata": {},
   "outputs": [],
   "source": [
    "from graphviz import Digraph"
   ]
  },
  {
   "cell_type": "code",
   "execution_count": null,
   "id": "6af84b54",
   "metadata": {},
   "outputs": [],
   "source": [
    "spdf_name = bb_with_entry.pdf.unique()[-1]"
   ]
  },
  {
   "cell_type": "code",
   "execution_count": null,
   "id": "dbcbfe5a",
   "metadata": {},
   "outputs": [],
   "source": [
    "def get_child_of(tp):\n",
    "    return [c for c, p in child_parent_table.items() if p == tp]"
   ]
  },
  {
   "cell_type": "code",
   "execution_count": null,
   "id": "311d3ded",
   "metadata": {},
   "outputs": [],
   "source": [
    "def desc(tp):\n",
    "    out = [tp]\n",
    "    for x in get_child_of(tp):\n",
    "        out += desc(x)\n",
    "    return out"
   ]
  },
  {
   "cell_type": "code",
   "execution_count": null,
   "id": "ec8be764",
   "metadata": {},
   "outputs": [],
   "source": [
    "entry_bullet_table[entry_bullet_table == 1].index[1]"
   ]
  },
  {
   "cell_type": "code",
   "execution_count": null,
   "id": "26b8d6ee",
   "metadata": {},
   "outputs": [],
   "source": [
    "d=Digraph('diagram',graph_attr={'rankdir': 'RL'})\n",
    "d.attr('node')\n",
    "desc_list = desc(entry_bullet_table[entry_bullet_table == 1].index[2])\n",
    "d.attr('node',shape='box')\n",
    "for c,p in child_parent_table.items():\n",
    "    if c not in desc_list: continue\n",
    "    pdf_name = bb_with_entry[bb_with_entry.entry_label == c].pdf.iloc[0]\n",
    "#     if pdf_name != spdf_name: continue\n",
    "    cs = str(c)\n",
    "    ps = str(p)\n",
    "    \n",
    "    node_label = entry_text_table.loc[c]\n",
    "    \n",
    "    amount = re.findall('[\\d,]+ บาท', node_label)\n",
    "    node_label = re.sub('[\\d,]+ บาท', '', node_label)\n",
    "    node_label = node_label[:100] + (amount[0] if len(amount) > 0 else '')\n",
    "    \n",
    "    d.node(cs, node_label)\n",
    "    if p is None:\n",
    "        ps = pdf_name\n",
    "\n",
    "    d.edge(cs, ps)\n",
    "    pagenum = entry_page_num_table[c]"
   ]
  },
  {
   "cell_type": "code",
   "execution_count": null,
   "id": "1c614ebb",
   "metadata": {},
   "outputs": [],
   "source": [
    "# d.render(pdf_name.replace('/','-').replace('.', '-'),format='svg')\n",
    "d.render('out',format='png')"
   ]
  },
  {
   "cell_type": "code",
   "execution_count": null,
   "id": "252c9e1f",
   "metadata": {},
   "outputs": [],
   "source": [
    "d"
   ]
  },
  {
   "cell_type": "code",
   "execution_count": null,
   "id": "c2325449",
   "metadata": {},
   "outputs": [],
   "source": []
  }
 ],
 "metadata": {
  "kernelspec": {
   "display_name": "Python 3 (ipykernel)",
   "language": "python",
   "name": "python3"
  },
  "language_info": {
   "codemirror_mode": {
    "name": "ipython",
    "version": 3
   },
   "file_extension": ".py",
   "mimetype": "text/x-python",
   "name": "python",
   "nbconvert_exporter": "python",
   "pygments_lexer": "ipython3",
   "version": "3.9.7"
  }
 },
 "nbformat": 4,
 "nbformat_minor": 5
}
