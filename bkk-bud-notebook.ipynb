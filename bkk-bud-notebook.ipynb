{
 "cells": [
  {
   "cell_type": "code",
   "execution_count": null,
   "id": "42687750",
   "metadata": {},
   "outputs": [],
   "source": [
    "import pandas as pd\n",
    "import numpy as np\n",
    "from tqdm.notebook import tqdm\n",
    "import re\n",
    "import json"
   ]
  },
  {
   "cell_type": "code",
   "execution_count": null,
   "id": "9944bb46",
   "metadata": {},
   "outputs": [],
   "source": [
    "_bb=pd.read_csv('bkk_budget_ocr.csv',index_col=0)\n",
    "_bb=_bb[~_bb['pagenum'].isna()]"
   ]
  },
  {
   "cell_type": "code",
   "execution_count": null,
   "id": "d2343934",
   "metadata": {},
   "outputs": [],
   "source": [
    "# number of document\n",
    "len(_bb.pdf.unique())"
   ]
  },
  {
   "cell_type": "code",
   "execution_count": null,
   "id": "a3d028d8",
   "metadata": {},
   "outputs": [],
   "source": [
    "_bb['pagenum'] = _bb['pagenum'].astype(int)\n",
    "_bb['text'] = _bb['text'].astype(str)"
   ]
  },
  {
   "cell_type": "markdown",
   "id": "e37cf58c",
   "metadata": {},
   "source": [
    "select test set"
   ]
  },
  {
   "cell_type": "markdown",
   "id": "24387026",
   "metadata": {},
   "source": [
    "remove unwanted document (just for develop)"
   ]
  },
  {
   "cell_type": "code",
   "execution_count": null,
   "id": "e20c660b",
   "metadata": {},
   "outputs": [],
   "source": [
    "_bb"
   ]
  },
  {
   "cell_type": "code",
   "execution_count": null,
   "id": "061544a8",
   "metadata": {},
   "outputs": [],
   "source": [
    "_bb=_bb.assign(fisical_year=_bb.pdf.apply(lambda v: int(re.findall('/6\\d/', v)[0][1:-1])))"
   ]
  },
  {
   "cell_type": "code",
   "execution_count": null,
   "id": "0dd850a3",
   "metadata": {},
   "outputs": [],
   "source": [
    "interested_doc = np.random.choice(\n",
    "    _bb[_bb['fisical_year'] < 65].pdf.unique(),\n",
    "    20)\n",
    "# interested_doc = ['pdf/62/A20181002170030.pdf']"
   ]
  },
  {
   "cell_type": "code",
   "execution_count": null,
   "id": "aced5c37",
   "metadata": {
    "scrolled": true
   },
   "outputs": [],
   "source": [
    "bb=_bb[_bb.pdf.isin(interested_doc)]"
   ]
  },
  {
   "cell_type": "markdown",
   "id": "d49764ed",
   "metadata": {},
   "source": [
    "fix text by dict"
   ]
  },
  {
   "cell_type": "code",
   "execution_count": null,
   "id": "47b20c9b",
   "metadata": {},
   "outputs": [],
   "source": [
    "chr_fix_pair={'ำ': 'า','/า': 'ำ', '/้า': '้ำ', '/่':'่'}"
   ]
  },
  {
   "cell_type": "code",
   "execution_count": null,
   "id": "fd5fe822",
   "metadata": {},
   "outputs": [],
   "source": [
    "def fix_pdf_text(old_text):\n",
    "    new_text = old_text.strip()\n",
    "    for o,n in chr_fix_pair.items():\n",
    "        new_text=new_text.replace(o,n)\n",
    "    return new_text\n",
    "\n",
    "bb=bb.assign(fix_text=bb.text.apply(fix_pdf_text))"
   ]
  },
  {
   "cell_type": "markdown",
   "id": "cb7c1b61",
   "metadata": {},
   "source": [
    "replace text from pdf with OCR text"
   ]
  },
  {
   "cell_type": "code",
   "execution_count": null,
   "id": "76840f76",
   "metadata": {},
   "outputs": [],
   "source": [
    "bb.loc[~bb['ocr-text'].isna(), 'fix_text'] = bb[~bb['ocr-text'].isna()]['ocr-text']"
   ]
  },
  {
   "cell_type": "markdown",
   "id": "8a2d6a8b",
   "metadata": {},
   "source": [
    "group line"
   ]
  },
  {
   "cell_type": "code",
   "execution_count": null,
   "id": "0cf9b7bc",
   "metadata": {
    "scrolled": false
   },
   "outputs": [],
   "source": [
    "for g, page_df in tqdm(bb.groupby('image_path')):\n",
    "    page_df = page_df.sort_values(['y0', 'x0'])\n",
    "    bb.loc[page_df.index, 'line_label']=(\n",
    "        (page_df.y0.diff() > 10) | page_df.y0.diff().isna()\n",
    "    ).astype(int).cumsum()"
   ]
  },
  {
   "cell_type": "code",
   "execution_count": null,
   "id": "ac6c2215",
   "metadata": {},
   "outputs": [],
   "source": [
    "bb.loc[:, 'line_label'] = bb.line_label.astype(int)"
   ]
  },
  {
   "cell_type": "code",
   "execution_count": null,
   "id": "f4833f13",
   "metadata": {},
   "outputs": [],
   "source": [
    "# bb.sort_values(['fisical_year', 'pagenum', 'line_label', 'y0', 'x0'])"
   ]
  },
  {
   "cell_type": "markdown",
   "id": "a86b1e36",
   "metadata": {},
   "source": [
    "# Try to parse"
   ]
  },
  {
   "cell_type": "code",
   "execution_count": null,
   "id": "5daa74d9",
   "metadata": {},
   "outputs": [],
   "source": [
    "import re\n",
    "def get_patern_of_bullet(String):\n",
    "    regx = [\n",
    "        ('^0[\\-–\\d]+$', 70),\n",
    "        ('^\\(\\d*(\\.?\\d*)*\\)$', 50),\n",
    "        ('^[1-9]\\d*(\\.[1-9]\\d*)*\\)$', 20),\n",
    "        ('^[1-9]\\d*(\\.[1-9]\\d*)+$', 5),\n",
    "        ('^[1-9]\\d*\\.$', 4),\n",
    "        ('^โครงการ', 3),\n",
    "        ('^งาน', 3),\n",
    "        ('^แผนงาน', 2),\n",
    "        ('^[\\u0E00-\\u0E7F]\\.$', 1)\n",
    "    ]\n",
    "    \n",
    "    if String in ['ด้านการจัดบริการของสำนักงานเขต',\n",
    "                  'ด้านการบริหารจัดการและบริหารราชการกรุงเทพมหานคร',\n",
    "                  'ด้านการศึกษา',\n",
    "                  'ด้านความปลอดภัยและความเป็นระเบียบเรียบร้อย',\n",
    "                  'ด้านทรัพยากรธรรมชาติและสิ่งแวดล้อม',\n",
    "                  'ด้านพัฒนาสังคมและชุมชนเมือง',\n",
    "                  'ด้านสาธารณสุข',\n",
    "                  'ด้านเมืองและการพัฒนาเมือง',\n",
    "                  'ด้านเศรษฐกิจและการพาณิชย์']: return ('ด้าน',1)\n",
    "\n",
    "    for r, l in regx:\n",
    "        if re.match(r, String):\n",
    "            if l in [5, 20, 50]:\n",
    "                l = String.count('.') + l\n",
    "            if r == '^งาน' and String == 'งานที่จะทำ': continue\n",
    "            return r, l\n",
    "    return '', 0"
   ]
  },
  {
   "cell_type": "code",
   "execution_count": null,
   "id": "5c457348",
   "metadata": {},
   "outputs": [],
   "source": [
    "bb_with_entry = bb.copy()"
   ]
  },
  {
   "cell_type": "code",
   "execution_count": null,
   "id": "c42d82fb",
   "metadata": {},
   "outputs": [],
   "source": [
    "import fitz"
   ]
  },
  {
   "cell_type": "code",
   "execution_count": null,
   "id": "28a91efd",
   "metadata": {
    "scrolled": true
   },
   "outputs": [],
   "source": [
    "len(bb[~bb.line_label.isna()].groupby(['pdf','pagenum']))"
   ]
  },
  {
   "cell_type": "code",
   "execution_count": null,
   "id": "184c70a7",
   "metadata": {},
   "outputs": [],
   "source": [
    "document_index = json.load(open('budget_resource.json'))\n",
    "document_index = {\n",
    "    pdf['path']: re.sub('^[^\\s]* ', '',pdf['name'])\n",
    "    for year in document_index\n",
    "    for pdf in document_index[year]['pdf_path']\n",
    "}"
   ]
  },
  {
   "cell_type": "code",
   "execution_count": null,
   "id": "c86ed7a9",
   "metadata": {
    "scrolled": false
   },
   "outputs": [],
   "source": [
    "entry_label_id = 0\n",
    "is_entry = False\n",
    "prog_bar = tqdm(total=len(bb[~bb.line_label.isna()].groupby(['pdf', 'pagenum'])))\n",
    "\n",
    "for pdf_name, pdf_df in bb[~bb.line_label.isna()].groupby(['pdf',]): \n",
    "    doc = fitz.open(pdf_name)\n",
    "#     if pdf_name in except_pdf:\n",
    "#         prog_bar.update(len(pdf_df))\n",
    "#         continue\n",
    "    \n",
    "    for pdf_page_index, page_df in pdf_df.groupby(['pagenum']):\n",
    "        prog_bar.update(1)\n",
    "\n",
    "        page = doc.load_page(pdf_page_index)\n",
    "\n",
    "        if [x for x in page.get_drawings() if x['rect'].height > 10]:\n",
    "            prog_bar.update(len(pdf_df[pdf_df.pagenum > pdf_page_index].groupby(['pagenum'])))\n",
    "            break\n",
    "\n",
    "        bb_with_entry.loc[page_df.index, 'is_included'] = True\n",
    "            \n",
    "        for line_num, line_df in page_df.groupby('line_label'):\n",
    "            if (line_df.fix_text == 'รายละเอียดรายจ่าย').any():\n",
    "                continue\n",
    "            \n",
    "            fisical_year = line_df.fisical_year.values[0]\n",
    "            if (line_df.fix_text.isin(['ปี', f'25{fisical_year}', 'บาท'])).sum() == 3:\n",
    "                continue\n",
    "\n",
    "            if line_num == 0:\n",
    "                continue\n",
    "\n",
    "            text_line = line_df.sort_values(by='x0',ascending=True).fix_text.values\n",
    "            bullet_code = get_patern_of_bullet(text_line[0])[1]\n",
    "\n",
    "            if bullet_code == 70:\n",
    "                if len(text_line) > 1:\n",
    "                    second_bullet = get_patern_of_bullet(text_line[1])[1]\n",
    "                    if second_bullet != 0: bullet_code = second_bullet\n",
    "                if len(text_line) > 2:\n",
    "                    third_bullet = get_patern_of_bullet(text_line[2])[1]\n",
    "                    if third_bullet != 0: bullet_code = third_bullet\n",
    "\n",
    "            if bullet_code != 0:\n",
    "                entry_label_id += 1\n",
    "                bb_with_entry.loc[line_df.index, 'bullet_label'] = bullet_code\n",
    "                is_entry = True\n",
    "\n",
    "            if is_entry:\n",
    "                bb_with_entry.loc[line_df.index, 'entry_label'] = entry_label_id\n",
    "\n",
    "            is_last_token_baht = text_line[-1] == 'บาท'\n",
    "            if is_last_token_baht:\n",
    "                is_entry = False"
   ]
  },
  {
   "cell_type": "code",
   "execution_count": null,
   "id": "752ffbf3",
   "metadata": {},
   "outputs": [],
   "source": [
    "bb_with_entry[~bb_with_entry.is_included.isna()][[\n",
    "    'pdf','pagenum','line_label','fix_text','fisical_year','bullet_label','entry_label',]]\\\n",
    ".to_csv('bb-with-entry.csv')"
   ]
  },
  {
   "cell_type": "code",
   "execution_count": null,
   "id": "9dcc1b8e",
   "metadata": {},
   "outputs": [],
   "source": [
    "bb_with_entry[\n",
    "    (bb_with_entry.pagenum == 24) & (bb_with_entry.pdf == 'pdf/64/topic2787_2020_10_06_10_18_51.pdf')\n",
    "][['fix_text', 'entry_label']].values;"
   ]
  },
  {
   "cell_type": "code",
   "execution_count": null,
   "id": "082a5ffe",
   "metadata": {
    "scrolled": true
   },
   "outputs": [],
   "source": [
    "# inspect them\n",
    "start_entry=bb_with_entry[~bb_with_entry.bullet_label.isna()].groupby(['pdf','pagenum','entry_label']).x0.min()\n",
    "start_entry.mean(),start_entry.std(),start_entry.mean()+start_entry.std(),start_entry.max()"
   ]
  },
  {
   "cell_type": "code",
   "execution_count": null,
   "id": "89ab0151",
   "metadata": {},
   "outputs": [],
   "source": [
    "len(bb_with_entry.pdf.unique())"
   ]
  },
  {
   "cell_type": "code",
   "execution_count": null,
   "id": "8bc84365",
   "metadata": {
    "scrolled": false
   },
   "outputs": [],
   "source": [
    "# test print by entry\n",
    "bb_with_entry\\\n",
    "    .groupby(['pdf','pagenum', 'entry_label'])\\\n",
    "    .apply(lambda x: (\n",
    "            x.iloc[0].pdf,\n",
    "#             x.iloc[0].entry_label,\n",
    "#             x.iloc[0].bullet_label,\n",
    "            ' '.join(x.fix_text.values.tolist())\n",
    "    )).to_list();"
   ]
  },
  {
   "cell_type": "markdown",
   "id": "6ab3bed5",
   "metadata": {},
   "source": [
    "Relation extraction\n",
    "\n",
    "pairing parent node with child nodes"
   ]
  },
  {
   "cell_type": "code",
   "execution_count": null,
   "id": "6908785c",
   "metadata": {},
   "outputs": [],
   "source": [
    "entry_bullet_table = bb_with_entry.groupby('entry_label').apply(lambda x: x.bullet_label.unique()[0])\n",
    "entry_page_num_table = bb_with_entry.groupby('entry_label').apply(lambda x: x.pagenum.unique()[0])\n",
    "entry_text_table = bb_with_entry.groupby('entry_label').apply(lambda x: ' '.join(x.sort_values('x0').fix_text.values))"
   ]
  },
  {
   "cell_type": "code",
   "execution_count": null,
   "id": "08e97bc1",
   "metadata": {},
   "outputs": [],
   "source": [
    "child_parent_table = dict()\n",
    "curr = None\n",
    "prev_pdf_name = None\n",
    "for entry, bullet in entry_bullet_table.items():\n",
    "    pdf_name = bb_with_entry[bb_with_entry.entry_label == entry].pdf.iloc[0]\n",
    "    if prev_pdf_name != pdf_name:\n",
    "        curr = None\n",
    "    prev_pdf_name = pdf_name\n",
    "    while (curr is not None and bullet <= entry_bullet_table[curr]):\n",
    "        curr = child_parent_table[curr]\n",
    "    child_parent_table[entry] = curr\n",
    "    curr = entry"
   ]
  },
  {
   "cell_type": "code",
   "execution_count": null,
   "id": "f77949a3",
   "metadata": {
    "scrolled": true
   },
   "outputs": [],
   "source": [
    "len(child_parent_table),len(entry_bullet_table)"
   ]
  },
  {
   "cell_type": "markdown",
   "id": "ed3dc9db",
   "metadata": {},
   "source": [
    "# Build Graph"
   ]
  },
  {
   "cell_type": "code",
   "execution_count": null,
   "id": "0607f7f3",
   "metadata": {},
   "outputs": [],
   "source": [
    "from graphviz import Digraph"
   ]
  },
  {
   "cell_type": "code",
   "execution_count": null,
   "id": "26b8d6ee",
   "metadata": {
    "scrolled": true
   },
   "outputs": [],
   "source": [
    "d = Digraph('diagram', graph_attr={'rankdir': 'RL'})\n",
    "\n",
    "pdf_in_diagram = []\n",
    "\n",
    "d.attr('node',shape='circle')\n",
    "print('total pdf', len(bb_with_entry.pdf.unique()))\n",
    "for pdf_name in bb_with_entry.pdf.unique():\n",
    "    d.node(pdf_name)\n",
    "\n",
    "d.attr('node',shape='box')\n",
    "for c,p in child_parent_table.items():\n",
    "    cs = str(c)\n",
    "    ps = str(p)\n",
    "    \n",
    "    pdf_name = bb_with_entry[bb_with_entry.entry_label == c].pdf.iloc[0]\n",
    "    node_label = entry_text_table.loc[c]\n",
    "    \n",
    "    amount = re.findall('[\\d,]+ บาท', node_label)\n",
    "    node_label = re.sub('[\\d,]+ บาท', '', node_label)\n",
    "    node_label = node_label[:50].strip() + ' ' + (amount[0] if len(amount) > 0 else '')\n",
    "    \n",
    "    d.node(cs, node_label)\n",
    "    \n",
    "    if p is None:\n",
    "        ps = pdf_name\n",
    "        if pdf_name not in pdf_in_diagram:\n",
    "            pdf_in_diagram.append(pdf_name)\n",
    "\n",
    "    d.edge(cs, ps)\n",
    "    pagenum = entry_page_num_table[c]"
   ]
  },
  {
   "cell_type": "code",
   "execution_count": null,
   "id": "252c9e1f",
   "metadata": {
    "scrolled": true
   },
   "outputs": [],
   "source": [
    "d"
   ]
  },
  {
   "cell_type": "code",
   "execution_count": null,
   "id": "1c614ebb",
   "metadata": {},
   "outputs": [],
   "source": [
    "d.render('out',format='svg')"
   ]
  },
  {
   "cell_type": "code",
   "execution_count": null,
   "id": "c2325449",
   "metadata": {},
   "outputs": [],
   "source": [
    "bb_with_entry[bb_with_entry.pdf == 'pdf/62/A20181002170030.pdf']\\\n",
    ".groupby(['pagenum', 'line_label'])\\\n",
    ".apply(lambda x: print(x[['bullet_label', 'fix_text']].values.tolist()));"
   ]
  },
  {
   "cell_type": "markdown",
   "id": "a0e8708e",
   "metadata": {},
   "source": [
    "# Contruct table"
   ]
  },
  {
   "cell_type": "code",
   "execution_count": null,
   "id": "5d4f6ece",
   "metadata": {},
   "outputs": [],
   "source": [
    "doc_count = {}\n",
    "for doc_name in document_index.values():\n",
    "    doc_name = re.sub('\\s','',doc_name)\n",
    "    doc_count[doc_name] = doc_count.get(doc_name, 0) + 1\n",
    "doc_names = [k for k, v in doc_count.items() if v > 3]"
   ]
  },
  {
   "cell_type": "markdown",
   "id": "38f20aac",
   "metadata": {},
   "source": [
    "## Get department name"
   ]
  },
  {
   "cell_type": "code",
   "execution_count": null,
   "id": "fe907244",
   "metadata": {},
   "outputs": [],
   "source": [
    "doc_org_name = {}\n",
    "for pdf, pdf_df in bb_with_entry[(bb_with_entry.pagenum == 0)].groupby(['pdf',]):\n",
    "    for l, line_df in pdf_df.groupby(['line_label']):\n",
    "        line_text = line_df.fix_text.values.tolist()[0]\n",
    "        if re.findall('[\\u0E00-\\u0E7F]+', line_text):\n",
    "            print(pdf, line_text)\n",
    "            doc_org_name[pdf] = line_text\n",
    "            break"
   ]
  },
  {
   "cell_type": "markdown",
   "id": "a20aca89",
   "metadata": {},
   "source": [
    "## structuring"
   ]
  },
  {
   "cell_type": "code",
   "execution_count": null,
   "id": "bd54ae6e",
   "metadata": {},
   "outputs": [],
   "source": [
    "rows = []\n",
    "for c, p in child_parent_table.items():\n",
    "    is_leaf = c not in child_parent_table.values()\n",
    "    if not is_leaf: continue\n",
    "\n",
    "    curr_p = p\n",
    "    ancesters = []\n",
    "    while curr_p is not None:\n",
    "        ancesters.append(curr_p)\n",
    "        curr_p = child_parent_table[curr_p]\n",
    "\n",
    "    ancesters = ancesters[::-1]\n",
    "    \n",
    "    pdf_name = bb_with_entry[bb_with_entry.entry_label == c].pdf.iloc[0]\n",
    "    org = doc_org_name[pdf_name]\n",
    "    ancesters.append(c)\n",
    "    entries = [entry_text_table.loc[a] for a in ancesters]\n",
    "\n",
    "    temp_row = dict()\n",
    "    for i, entry in enumerate(entries):\n",
    "        amount = re.findall('([\\d,]+) ?บาท', entry)\n",
    "        entry = re.sub('[\\d,]+ ?บาท', '', entry)\n",
    "        \n",
    "        bullet = re.findall('^[\\d\\.\\-–]+',entry)\n",
    "        entry = re.sub('^[\\d\\.\\-–]+', '',entry)        \n",
    "        entry = entry.strip()\n",
    "        \n",
    "        if not amount:\n",
    "            print(entry)\n",
    "        if i == len(entries) - 1:\n",
    "            temp_row['output/proj'] = bullet[0]\n",
    "            temp_row['output_proj_name'] = entry\n",
    "            temp_row['amount'] = amount[0]\n",
    "        else:\n",
    "            temp_row[f'bullet_{i}'] = bullet[0]\n",
    "            temp_row[f'name_{i}'] = entry\n",
    "            if amount:\n",
    "                temp_row[f'amount_{i}'] = amount[0]\n",
    "\n",
    "    row = {'name_organization': org, 'pdf_name': pdf_name}\n",
    "    row.update(temp_row)\n",
    "    rows.append(row)"
   ]
  },
  {
   "cell_type": "code",
   "execution_count": null,
   "id": "a0a1c80f",
   "metadata": {},
   "outputs": [],
   "source": [
    "pd.DataFrame(rows).to_csv('bkkbudget_61-64_v0.csv')"
   ]
  },
  {
   "cell_type": "code",
   "execution_count": null,
   "id": "59ef39ac",
   "metadata": {},
   "outputs": [],
   "source": []
  }
 ],
 "metadata": {
  "kernelspec": {
   "display_name": "Python 3 (ipykernel)",
   "language": "python",
   "name": "python3"
  },
  "language_info": {
   "codemirror_mode": {
    "name": "ipython",
    "version": 3
   },
   "file_extension": ".py",
   "mimetype": "text/x-python",
   "name": "python",
   "nbconvert_exporter": "python",
   "pygments_lexer": "ipython3",
   "version": "3.9.7"
  }
 },
 "nbformat": 4,
 "nbformat_minor": 5
}
