{
 "cells": [
  {
   "cell_type": "markdown",
   "id": "58af60a6",
   "metadata": {},
   "source": [
    "library"
   ]
  },
  {
   "cell_type": "code",
   "execution_count": 1,
   "id": "79c8d3e6",
   "metadata": {},
   "outputs": [],
   "source": [
    "import json\n",
    "import string\n",
    "import random\n",
    "from typing import List, Dict\n",
    "from spacy import displacy\n",
    "import copy"
   ]
  },
  {
   "cell_type": "markdown",
   "id": "2bde0b50",
   "metadata": {},
   "source": [
    "define function and class"
   ]
  },
  {
   "cell_type": "code",
   "execution_count": 2,
   "id": "86ea12f6",
   "metadata": {},
   "outputs": [],
   "source": [
    "class Dataset:\n",
    "    data = None\n",
    "    def __init__(self,data=None):\n",
    "        self.data = data if data is not None else dict()\n",
    "        self.fields = list(data.keys())\n",
    "        \n",
    "    def __getitem__(self, index):\n",
    "        assert isinstance(index, (int,str))\n",
    "        if isinstance(index, int):\n",
    "            return {k:self.data[k][index] for k in self.data}\n",
    "        if isinstance(index, str):\n",
    "            return self.data[index]\n",
    "        \n",
    "    def __iter__(self):\n",
    "        length = len(self.data[self.fields[0]])\n",
    "        for i in range(length):\n",
    "            yield self[i]\n",
    "\n",
    "            \n",
    "def get_json():\n",
    "    file_name = '../dataset/bkk-budget-ner-preds.json'\n",
    "    dataset = None\n",
    "    with open(file_name) as fp:\n",
    "        dataset = json.load(fp)\n",
    "    return dataset\n",
    "\n",
    "\n",
    "def id_generator(size=6, chars=string.ascii_uppercase + string.digits):\n",
    "    return ''.join(random.choice(chars) for _ in range(size))\n",
    "\n",
    "\n",
    "def to_ner_label_format(segment):\n",
    "    return {\n",
    "        \"id\": id_generator(),\n",
    "        \"from_name\": \"label\",\n",
    "        \"to_name\": \"text\",\n",
    "        \"type\": \"labels\",\n",
    "        \"value\": {\n",
    "            \"start\": segment['start'],\n",
    "            \"end\": segment[\"end\"],\n",
    "            \"score\": segment[\"score\"],\n",
    "            \"text\": segment[\"word\"],\n",
    "            \"labels\": [segment[\"entity_group\"]]\n",
    "    }}\n",
    "\n",
    "\n",
    "def get_ls_format(data):\n",
    "    text = data['text']#.replace('[END_LINE]','\\n').replace('[BEGIN_DOC]','\\n')\n",
    "    text, entity = remove_special_tokens(text,data['prediction'])\n",
    "    results = [to_ner_label_format(x) for x in entity if x['score'] > 0.85]\n",
    "    return {\n",
    "    \"data\": {\"text\": text},\n",
    "    \"predictions\" : [{\n",
    "        \"model_version\": \"0.3\",\n",
    "        \"result\": results\n",
    "    }]\n",
    "}"
   ]
  },
  {
   "cell_type": "code",
   "execution_count": 3,
   "id": "f55f699e",
   "metadata": {},
   "outputs": [],
   "source": [
    "def hf_to_spacy_format(entity):\n",
    "    return {'start': entity['start'],\n",
    "            'end': entity['end'],\n",
    "            'label': entity[\"entity_group\"]}\n",
    "\n",
    "\n",
    "def remove_special_tokens(text: str, tag_list: List[Dict]):\n",
    "    special_tokens = [{'token':'[END_LINE]',  'rep': '\\n'},\n",
    "                      {'token':'[BEGIN_DOC]', 'rep':''},\n",
    "                      {'token':'[BEG_LINE]', 'rep': ''}]\n",
    "    \n",
    "    for special_token in special_tokens:\n",
    "        while text.find(special_token['token']) != -1:\n",
    "            tok_str = special_token['token']\n",
    "            tok_rep = special_token['rep']\n",
    "\n",
    "            # get first index of token\n",
    "            start_index = text.index(tok_str)\n",
    "            \n",
    "            # repalce frist special token\n",
    "            # with replacing token\n",
    "            text = text.replace(tok_str, tok_rep, 1)\n",
    "            for tag in tag_list:\n",
    "                # if the tag start after end_line token\n",
    "                # then it should subtract by length of the token\n",
    "                # and add with length of replacing token\n",
    "                if tag['start'] > start_index:\n",
    "                    tag['start'] -= len(special_token['token']) - len(tok_rep)\n",
    "                    tag['end'] -= len(special_token['token']) - len(tok_rep)\n",
    "                # else if the tag is end after start of token then\n",
    "                elif tag['end'] > start_index:\n",
    "                    # if end is replacing token then move end to the left\n",
    "                    add_one = tag['end'] - len(tok_str) == start_index\n",
    "                    tag['end'] -= len(tok_str) - (0 if add_one else len(tok_rep))\n",
    "\n",
    "    return text, tag_list"
   ]
  },
  {
   "cell_type": "markdown",
   "id": "970706f1",
   "metadata": {},
   "source": [
    "load dataset"
   ]
  },
  {
   "cell_type": "code",
   "execution_count": 4,
   "id": "d4f21368",
   "metadata": {},
   "outputs": [],
   "source": [
    "ds = Dataset(get_json())"
   ]
  },
  {
   "cell_type": "markdown",
   "id": "ce9133dc",
   "metadata": {},
   "source": [
    "see example"
   ]
  },
  {
   "cell_type": "code",
   "execution_count": 41,
   "id": "d4dc087f",
   "metadata": {},
   "outputs": [],
   "source": [
    "def visualize_token(text, tags):\n",
    "    text, cleaned_tags = remove_special_tokens(\n",
    "        text,\n",
    "        [hf_to_spacy_format(tag.copy())\n",
    "         for tag in tags\n",
    "         if tag['score'] > .85])\n",
    "\n",
    "    displacy.render({'text': text, 'ents': cleaned_tags}, style=\"ent\", manual=True)"
   ]
  },
  {
   "cell_type": "code",
   "execution_count": 5,
   "id": "299c8a69",
   "metadata": {
    "scrolled": false
   },
   "outputs": [
    {
     "data": {
      "text/html": [
       "<span class=\"tex2jax_ignore\"><div class=\"entities\" style=\"line-height: 2.5; direction: ltr\">271</br>\n",
       "<mark class=\"entity\" style=\"background: #ddd; padding: 0.45em 0.6em; margin: 0 0.25em; line-height: 1; border-radius: 0.35em;\">\n",
       "    5. ง\n",
       "    <span style=\"font-size: 0.8em; font-weight: bold; line-height: 1; border-radius: 0.35em; vertical-align: middle; margin-left: 0.5rem\">ENTRY</span>\n",
       "</mark>\n",
       "บ\n",
       "<mark class=\"entity\" style=\"background: #ddd; padding: 0.45em 0.6em; margin: 0 0.25em; line-height: 1; border-radius: 0.35em;\">\n",
       "    รายจ่ายอื่น 3,546,300 บาท\n",
       "    <span style=\"font-size: 0.8em; font-weight: bold; line-height: 1; border-radius: 0.35em; vertical-align: middle; margin-left: 0.5rem\">ENTRY</span>\n",
       "</mark>\n",
       "</br>\n",
       "<mark class=\"entity\" style=\"background: #ddd; padding: 0.45em 0.6em; margin: 0 0.25em; line-height: 1; border-radius: 0.35em;\">\n",
       "    07109-1 (1) ค่าใช้จ่ายในการพัฒนาคุณภาพการดำเนินงาน 26,200 บาท\n",
       "    <span style=\"font-size: 0.8em; font-weight: bold; line-height: 1; border-radius: 0.35em; vertical-align: middle; margin-left: 0.5rem\">ENTRY</span>\n",
       "</mark>\n",
       "</br>ศูนย์วิชาการเขต</br>\n",
       "<mark class=\"entity\" style=\"background: #ddd; padding: 0.45em 0.6em; margin: 0 0.25em; line-height: 1; border-radius: 0.35em;\">\n",
       "    07124-1 (2) ค่าใช้จ่ายในการจัดประชุมสัมมนาคณะกรรมการ 61,500 บาท\n",
       "    <span style=\"font-size: 0.8em; font-weight: bold; line-height: 1; border-radius: 0.35em; vertical-align: middle; margin-left: 0.5rem\">ENTRY</span>\n",
       "</mark>\n",
       "</br>สถานศึกษาขั้นพื้นฐานโรงเรียนสังกัดกรุงเทพมหานคร</br>\n",
       "<mark class=\"entity\" style=\"background: #ddd; padding: 0.45em 0.6em; margin: 0 0.25em; line-height: 1; border-radius: 0.35em;\">\n",
       "    07125-1 (3) ค่าใช้จ่ายในการสัมมนาประธานกรรมการเครือข่าย\n",
       "ผู้ปกครองเพื่อพัฒนาโรงเรียนสังกัดกรุงเทพมหานคร 15,300 บาท\n",
       "    <span style=\"font-size: 0.8em; font-weight: bold; line-height: 1; border-radius: 0.35em; vertical-align: middle; margin-left: 0.5rem\">ENTRY</span>\n",
       "</mark>\n",
       "</br>\n",
       "<mark class=\"entity\" style=\"background: #ddd; padding: 0.45em 0.6em; margin: 0 0.25em; line-height: 1; border-radius: 0.35em;\">\n",
       "    07126-1 (4) ค่าใช้จ่ายในการส่งเสริมสนับสนุนให้นักเรียน\n",
       "สร้างสรรค์ผลงานเพื่อการเรียนรู้ 86,600 บาท\n",
       "    <span style=\"font-size: 0.8em; font-weight: bold; line-height: 1; border-radius: 0.35em; vertical-align: middle; margin-left: 0.5rem\">ENTRY</span>\n",
       "</mark>\n",
       "</br>\n",
       "<mark class=\"entity\" style=\"background: #ddd; padding: 0.45em 0.6em; margin: 0 0.25em; line-height: 1; border-radius: 0.35em;\">\n",
       "    07199-1 (5) ค่าใช้จ่ายในการประชุมครู 8,300 บาท\n",
       "    <span style=\"font-size: 0.8em; font-weight: bold; line-height: 1; border-radius: 0.35em; vertical-align: middle; margin-left: 0.5rem\">ENTRY</span>\n",
       "</mark>\n",
       "</br>\n",
       "<mark class=\"entity\" style=\"background: #ddd; padding: 0.45em 0.6em; margin: 0 0.25em; line-height: 1; border-radius: 0.35em;\">\n",
       "    07199-11 (6) ค่าใช้จ่ายโครงการเกษตรปลอดสารพิษ 20,000 บาท\n",
       "    <span style=\"font-size: 0.8em; font-weight: bold; line-height: 1; border-radius: 0.35em; vertical-align: middle; margin-left: 0.5rem\">ENTRY</span>\n",
       "</mark>\n",
       "</br>\n",
       "<mark class=\"entity\" style=\"background: #ddd; padding: 0.45em 0.6em; margin: 0 0.25em; line-height: 1; border-radius: 0.35em;\">\n",
       "    07199-13 (7) ค่าใช้จ่ายโครงการเรียนฟรี เรียนดี\n",
       "อย่างมีคุณภาพโรงเรียนสังกัดกรุงเทพมหานคร 3,215,400 บาท\n",
       "    <span style=\"font-size: 0.8em; font-weight: bold; line-height: 1; border-radius: 0.35em; vertical-align: middle; margin-left: 0.5rem\">ENTRY</span>\n",
       "</mark>\n",
       "</br>\n",
       "<mark class=\"entity\" style=\"background: #ddd; padding: 0.45em 0.6em; margin: 0 0.25em; line-height: 1; border-radius: 0.35em;\">\n",
       "    07199-17 (8) ค่าใช้จ่ายในการฝึกอบรมนายหมู่ลูกเสือสามัญ\n",
       "สามัญรุ่นใหญ่และหัวหน้าหน่วยยุวกาชาด 113,000 บาท\n",
       "    <span style=\"font-size: 0.8em; font-weight: bold; line-height: 1; border-radius: 0.35em; vertical-align: middle; margin-left: 0.5rem\">ENTRY</span>\n",
       "</mark>\n",
       "</br></div></span>"
      ],
      "text/plain": [
       "<IPython.core.display.HTML object>"
      ]
     },
     "metadata": {},
     "output_type": "display_data"
    }
   ],
   "source": [
    "seq_index = 16029\n",
    "text = ds[seq_index]['text']\n",
    "tags = ds[seq_index]['prediction']\n",
    "\n",
    "text, cleaned_tags = remove_special_tokens(\n",
    "    text,\n",
    "    [hf_to_spacy_format(tag.copy())\n",
    "     for tag in tags\n",
    "     if tag['score'] > .85]\n",
    ")\n",
    "\n",
    "displacy.render({'text': text, 'ents': cleaned_tags}, style=\"ent\", manual=True)"
   ]
  },
  {
   "cell_type": "markdown",
   "id": "02f53086",
   "metadata": {},
   "source": [
    "## Reformat\n",
    "reformat dataset to fit into label studio format"
   ]
  },
  {
   "cell_type": "code",
   "execution_count": 6,
   "id": "2499ecca",
   "metadata": {
    "scrolled": true
   },
   "outputs": [],
   "source": [
    "# formated_ds = [get_ls_format(copy.deepcopy(x)) for x in ds]\n",
    "# len(formated_ds)a"
   ]
  },
  {
   "cell_type": "code",
   "execution_count": 7,
   "id": "06686169",
   "metadata": {},
   "outputs": [],
   "source": [
    "# with open('LS-bkk-ner-preds.json', 'w') as fp:\n",
    "#     json.dump(formated_ds, fp, ensure_ascii=False, indent=2)"
   ]
  },
  {
   "cell_type": "markdown",
   "id": "e0f83b24",
   "metadata": {},
   "source": [
    "# Contructing"
   ]
  },
  {
   "cell_type": "code",
   "execution_count": 8,
   "id": "b1be6917",
   "metadata": {},
   "outputs": [],
   "source": [
    "import re"
   ]
  },
  {
   "cell_type": "code",
   "execution_count": 9,
   "id": "f0e4c415",
   "metadata": {},
   "outputs": [],
   "source": [
    "def get_patern_of_bullet(String):\n",
    "    regx = [\n",
    "        (r'^\\d[\\-\\d]+$', 70),\n",
    "        (r'^\\(\\d*(\\.?\\d*)*\\)$', 50),\n",
    "        (r'^[1-9]\\d*(\\.[1-9]\\d*)*\\)$', 20),\n",
    "        (r'^[1-9]\\d*(\\.[1-9]\\d*)+$', 5),\n",
    "        (r'^[1-9]\\d*\\.$', 4),\n",
    "        (r'^โครงการ', 3),\n",
    "        (r'^งาน', 3),\n",
    "        (r'^แผนงาน', 2),\n",
    "        (r'^[\\u0E00-\\u0E7F]\\.$', 1)\n",
    "    ]\n",
    "    \n",
    "    if String in ['ด้านการจัดบริการของสำนักงานเขต',\n",
    "                  'ด้านการบริหารจัดการและบริหารราชการกรุงเทพมหานคร',\n",
    "                  'ด้านการศึกษา',\n",
    "                  'ด้านความปลอดภัยและความเป็นระเบียบเรียบร้อย',\n",
    "                  'ด้านทรัพยากรธรรมชาติและสิ่งแวดล้อม',\n",
    "                  'ด้านพัฒนาสังคมและชุมชนเมือง',\n",
    "                  'ด้านการสาธารณสุข',\n",
    "                  'ด้านสาธารณสุข',\n",
    "                  'ด้านเมืองและการพัฒนาเมือง',\n",
    "                  'ด้านการระบายนำและบำบัดนำเสีย',\n",
    "                  'ด้านการบริหารทั่วไป',\n",
    "                  'ด้านบริหารทั่วไป',\n",
    "                  'ด้านการโยธาและระบบจราจร',\n",
    "                  'ด้านเศรษฐกิจและการพาณิชย์']: return ('ด้าน',1)\n",
    "\n",
    "    for r, l in regx:\n",
    "        if re.match(r, String):\n",
    "            if l in [5, 20, 50]:\n",
    "                l = String.count('.') + l\n",
    "            if r == '^งาน' and String == 'งานที่จะทำ': continue\n",
    "            return r, l\n",
    "    return '', 0"
   ]
  },
  {
   "cell_type": "code",
   "execution_count": 10,
   "id": "c5c4b033",
   "metadata": {},
   "outputs": [],
   "source": [
    "import pandas\n",
    "import numpy"
   ]
  },
  {
   "cell_type": "code",
   "execution_count": 11,
   "id": "74df3124",
   "metadata": {},
   "outputs": [],
   "source": [
    "ds = Dataset(get_json())\n",
    "toc = pandas.read_csv('../table-of-content.csv',index_col=0)\n",
    "toc = toc.set_index('path')\n",
    "toc.loc[toc.start.isna().index, 'start'] = 1"
   ]
  },
  {
   "cell_type": "code",
   "execution_count": 12,
   "id": "926709df",
   "metadata": {},
   "outputs": [],
   "source": [
    "# content = pandas.DataFrame(list(ds))\n",
    "# is_interested_docs = content.pdf_name.apply(lambda pdf: pdf[4:] in toc.index)\n",
    "# is_terested_page   = content[is_interested_docs][['pdf_name','page']]\\\n",
    "#     .apply(lambda row: row.page >= toc.loc[row.pdf_name[4:]].start - 1,\n",
    "#            axis=1)\n",
    "# fdf = content[is_interested_docs][is_terested_page]"
   ]
  },
  {
   "cell_type": "code",
   "execution_count": 13,
   "id": "affce328",
   "metadata": {},
   "outputs": [],
   "source": [
    "content = pandas.DataFrame(list(ds))\n",
    "is_interested_docs = content.pdf_name.apply(lambda pdf: pdf[4:] in toc.index and pdf[4:6] != '65')\n",
    "is_terested_page   = content[is_interested_docs][['pdf_name','page']]\\\n",
    "    .apply(lambda row: (row.page < toc.loc[row.pdf_name[4:]].end - 1) and\n",
    "            (row.page >= toc.loc[row.pdf_name[4:]].start - 1),\n",
    "           axis=1)\n",
    "fdf = content[is_interested_docs][is_terested_page]"
   ]
  },
  {
   "cell_type": "code",
   "execution_count": 14,
   "id": "08b23818",
   "metadata": {},
   "outputs": [],
   "source": [
    "def is_not_overlab_entry(entry, entries: List):\n",
    "    for other in entries:\n",
    "        if other is entry: continue\n",
    "        elif other['start'] <= entry['start'] and\\\n",
    "             entry['end'] <= other['end']:\n",
    "            return False\n",
    "    return True"
   ]
  },
  {
   "cell_type": "code",
   "execution_count": 15,
   "id": "a8ff1101",
   "metadata": {
    "scrolled": false
   },
   "outputs": [],
   "source": [
    "def get_line_spans(text:str):\n",
    "    segments = []\n",
    "    start_line_idx = 0\n",
    "    while text.find('\\n') != -1:\n",
    "        lf_idx = text.index('\\n')\n",
    "        segments.append((start_line_idx,lf_idx))\n",
    "        start_line_idx = lf_idx + 1\n",
    "        text = text.replace('\\n','X',1)\n",
    "    return segments\n",
    "\n",
    "def flexing_entry(entries: List, line_spans):\n",
    "    for entry in entries:\n",
    "        e_start = entry['start']\n",
    "        e_end = entry['end']\n",
    "        for span in line_spans:\n",
    "            if e_start > span[0] and e_start < span[1]:\n",
    "                entry['start'] = span[0]\n",
    "            if e_end > span[0] and e_end < span[1]:\n",
    "                entry['end'] = span[1]\n",
    "    \n",
    "\n",
    "def get_entry_string(text, entry_spans):\n",
    "    text, entries = remove_special_tokens(\n",
    "        text,\n",
    "        [ent for ent in copy.deepcopy(entry_spans) if ent['score'] > 0.85],\n",
    "    )\n",
    "\n",
    "    line_spans = get_line_spans(text)\n",
    "    # if the entry doesn't start at the beginning of\n",
    "    # line, then flexing it\n",
    "    flexing_entry(entries, line_spans)\n",
    "\n",
    "    # getrid of everlaping entry\n",
    "    non_overlap_entries = [ent for ent in entries\n",
    "                           if is_not_overlab_entry(ent, entries)]\n",
    "    return text, non_overlap_entries"
   ]
  },
  {
   "cell_type": "code",
   "execution_count": 16,
   "id": "9eb8824e",
   "metadata": {},
   "outputs": [],
   "source": [
    "# anytree\n",
    "from anytree import NodeMixin, RenderTree\n",
    "from anytree import PostOrderIter, AsciiStyle"
   ]
  },
  {
   "cell_type": "code",
   "execution_count": 17,
   "id": "511d4103",
   "metadata": {},
   "outputs": [],
   "source": [
    "class Bullet:\n",
    "\n",
    "    def __init__(self, level, group, text):\n",
    "        self.level = level\n",
    "        self.group = group\n",
    "        self.text = text\n",
    "\n",
    "    def __eq__(self, value):\n",
    "        if isinstance(value, str):\n",
    "            return self.group == value\n",
    "        return self.level == self._to_generic(value)\n",
    "\n",
    "    def __le__(self, value):\n",
    "        return self.level <= self._to_generic(value)\n",
    "\n",
    "    def __lt__(self, value):\n",
    "        return self.level  < self._to_generic(value)\n",
    "\n",
    "    def _to_generic(self, other):\n",
    "        if isinstance(other, (Bullet,)):\n",
    "            return other.level\n",
    "        elif isinstance(other, (int, float)):\n",
    "            return other\n",
    "        raise TypeError()\n",
    "\n",
    "class BudgetEntry(NodeMixin):\n",
    "\n",
    "    def __init__(self, text, bullet: Bullet=None, parent=None, children=None):\n",
    "        super(BudgetEntry, self).__init__()\n",
    "        self.text = text\n",
    "        self.bullet = bullet if bullet else 0\n",
    "        self.parent = parent\n",
    "        try:\n",
    "            self.amount = re.findall(r'([\\d,]+) ?บาท', self.text)[-1]\n",
    "            self.text = re.sub(r'([\\d,]+) ?บาท', '', self.text)\n",
    "        except IndexError:\n",
    "            self.amount = None\n",
    "        if children: self.children = children\n",
    "            \n",
    "    def code(self,):\n",
    "        return ' '.join(re.findall(r'^0[\\d]+', self.text))\n",
    "    \n",
    "    def name(self,):\n",
    "        return re.sub(r'^[\\d\\-\\.ก-ส ]+ ([\\u0E00-\\u0E7F]{2,})', r'\\1', self.text)\n",
    "\n",
    "    def __repr__(self,):\n",
    "        return \"{}\".format(self.text.replace('\\n', ' '))"
   ]
  },
  {
   "cell_type": "code",
   "execution_count": 18,
   "id": "0a05de57",
   "metadata": {
    "scrolled": false
   },
   "outputs": [],
   "source": [
    "def plant_tree(text_entries: List[str], root_name):\n",
    "    \"\"\"🌲🌳🎄\n",
    "    \"\"\"\n",
    "    entry_list: List[BudgetEntry] = [None]\n",
    "    root = BudgetEntry(root_name, -1)\n",
    "    curr = root\n",
    "    for entry in text_entries:\n",
    "        bullet = Bullet(0,'', '')\n",
    "        for s in entry.split()[:3]:\n",
    "            group, level = get_patern_of_bullet(s)\n",
    "            b = Bullet(level, group, s)\n",
    "            if not level: continue\n",
    "            bullet = min(bullet, b) if bullet.level else b\n",
    "        if bullet == 0: continue\n",
    "        while curr.bullet != -1 and bullet <= curr.bullet:\n",
    "            curr = curr.parent\n",
    "        curr = BudgetEntry(entry, bullet, parent=curr)\n",
    "    return root"
   ]
  },
  {
   "cell_type": "code",
   "execution_count": 19,
   "id": "b686bbe3",
   "metadata": {
    "scrolled": false
   },
   "outputs": [],
   "source": [
    "all_roots = [BudgetEntry(str(y), -2) for y in toc.fisical_year.unique()]\n",
    "for pdf_name, pdf_df in fdf.groupby('pdf_name'):\n",
    "    text_entries = []\n",
    "    for i, row in pdf_df.iterrows():\n",
    "        text, entries = get_entry_string(row.text, row.prediction)\n",
    "#         displacy.render({'text': text, 'ents': [hf_to_spacy_format(e) for e in entries]},style=\"ent\", manual=True)\n",
    "        text_entries += [text[l['start']:l['end']] for l in entries]\n",
    "    root = plant_tree(text_entries, pdf_name)\n",
    "    for year_node in all_roots:\n",
    "        if year_node.text == pdf_df.iloc[0].pdf_name[4:6]:\n",
    "            root.parent = year_node\n",
    "    if root.parent is None: raise ValueError()"
   ]
  },
  {
   "cell_type": "code",
   "execution_count": 26,
   "id": "9b213704",
   "metadata": {
    "scrolled": true
   },
   "outputs": [],
   "source": [
    "rows = []\n",
    "for year_root in all_roots:\n",
    "    for node_budget in PostOrderIter(year_root):\n",
    "        if node_budget.bullet != '^โครงการ': continue\n",
    "        template = {\n",
    "            \"fisical_year\": None,\n",
    "            \"name_organization\": None,\n",
    "            \"pdf_name\": None, \n",
    "            \"pdf_url\": None,\n",
    "            **{f\"{rtype}_{i+1}\": None for i in range(4) for rtype in ['bullet', 'name', 'amount']},\n",
    "        }\n",
    "        ancestor_id = 1\n",
    "        for node in node_budget.ancestors:\n",
    "            if node.bullet == -2:\n",
    "                template['fisical_year'] = node.text\n",
    "            elif node.bullet == -1:\n",
    "                template['name_organization'] = toc.loc[node.text[4:]]['name']\n",
    "                template['pdf_name'] = node.text[4:]\n",
    "                template['pdf_url']  = toc.loc[node.text[4:]].url\n",
    "            else:\n",
    "                template[f'bullet_{ancestor_id}'] = node.code()\n",
    "                template[f'name_{ancestor_id}'] = node.name()\n",
    "                template[f'amount_{ancestor_id}'] = node.amount\n",
    "                ancestor_id += 1\n",
    "        template['output/proj'] = node_budget.code()\n",
    "        template['output_proj_name'] = node_budget.name()\n",
    "        template['amount'] = node_budget.amount\n",
    "        template['node'] = node_budget\n",
    "        rows.append(template)"
   ]
  },
  {
   "cell_type": "code",
   "execution_count": 27,
   "id": "42cbb836",
   "metadata": {},
   "outputs": [],
   "source": [
    "bkk_bud_df=pandas.DataFrame(rows).dropna(how='all')"
   ]
  },
  {
   "cell_type": "code",
   "execution_count": 34,
   "id": "073fd92a",
   "metadata": {},
   "outputs": [
    {
     "data": {
      "text/plain": [
       "โครงการก่อสร้างถนนศรีนครินทร์-ร่มเกล้า ช่วงที่ 3 "
      ]
     },
     "execution_count": 34,
     "metadata": {},
     "output_type": "execute_result"
    }
   ],
   "source": [
    "bkk_bud_df.loc[52].node"
   ]
  },
  {
   "cell_type": "code",
   "execution_count": null,
   "id": "7f4b02c4",
   "metadata": {},
   "outputs": [],
   "source": [
    "bkk_bud_df.to_csv('../bkk-budget-2018-2021.csv',index=0)"
   ]
  },
  {
   "cell_type": "code",
   "execution_count": 38,
   "id": "2e7bd2d4",
   "metadata": {},
   "outputs": [
    {
     "name": "stdout",
     "output_type": "stream",
     "text": [
      "pdf/61/A20171003162738.pdf\n",
      "└── 03 ด้านการโยธาและระบบจราจร \n",
      "    ├── 0301 1. แผนงานบริหารทั่วไป \n",
      "    │   ├── 0301001 1.1 งานบริหารทั่วไปด้านการโยธาและระบบจราจร \n",
      "    │   ├── 0301001-53-04 1.2 โครงการติดตั้งระบบความปลอดภัยและระบบ ควบคุมอาคารอัตโนมัติ อาคารศาลาว่าการ กรุงเทพมหานคร 2 ดินแดง (ระยะที่ 2) \n",
      "    │   ├── 0301001-53-06 1.3 โครงการติดตั้งระบบความปลอดภัยและระบบ ควบคุมอาคารอัตโนมัติ ศาลาว่าการ กรุงเทพมหานคร 2 ดินแดง (ระยะที่ 3) \n",
      "    │   ├── 0301001-54-02 1.4 โครงการปรับปรุงอาคารสำนักการโยธา และอาคารสำนักการระบายน้ำ \n",
      "    │   ├── 0301001-55-01 1.5 โครงการก่อสร้างระบบควบคุมการจราจรและ ความปลอดภัย ศาลาว่าการกรุงเทพมหานคร 2 ดินแดง (ระยะที่ 1) \n",
      "    │   ├── 0301001-55-06 1.6 โครงการก่อสร้างตกแต่งภายในอาคารหอประชุม สภากรุงเทพมหานคร ศาลาว่าการ กรุงเทพมหานคร 2 ดินแดง \n",
      "    │   ├── 0301034 1.7 งานแผนงานและประสานสาธารณูปโภค \n",
      "    │   └── 0301034-60-01 1.8 โครงการพัฒนาระบบบริหารงานโครงสร้างพื้นฐาน แบบบูรณาการของสำนักการโยธา กรุงเทพมหานคร \n",
      "    └── 0310 2. แผนงานการโยธา \n",
      "        ├── 0310039 2.1 งานสำรวจออกแบบและก่อสร้าง \n",
      "        ├── 0310039-54-20 2.2 โครงการก่อสร้างปรับปรุงถนนมิตรไมตรี ช่วงจากถนนวิภาวดีรังสิต-ถนนประชาสงเคราะห์ \n",
      "        ├── 0310039-54-21 2.3 โครงการก่อสร้างอาคารสำนักงานเขตดินแดง \n",
      "        ├── 0310039-55-47 2.4 โครงการก่อสร้างอาคารหอผู้ป่วย โรงพยาบาลลาดกระบัง กรุงเทพมหานคร \n",
      "        ├── 0310039-56-33 2.5 โครงการโรงพยาบาลผู้สูงอายุบางขุนเทียน \n",
      "        ├── 0310039-56-36 2.6 โครงการก่อสร้างอาคารโภชนาการ เวชภัณฑ์กลาง ซักฟอก พัสดุ ศูนย์ผู้สูงอายุและศูนย์เด็กเล็กน่าอยู่ คู่นมแม่ โรงพยาบาลเจริญกรุงประชารักษ์ \n",
      "        ├── 0310039-57-18 2.7 โครงการก่อสร้างถนนศรีนครินทร์-ร่มเกล้า ช่วงที่ 1 ก่อสร้างทางแยกต่างระดับถนนศรีนครินทร์ กับถนนกรุงเทพกรีฑาและก่อสร้างถนน จากถนนศรีนครินทร์ถึงคลองหัวหมาก \n",
      "        ├── 0310039-57-19 2.8 โครงการก่อสร้างถนนศรีนครินทร์-ร่มเกล้า ช่วงที่ 2 ก่อสร้างถนนศรีนครินทร์-ร่มเกล้า จากคลองหัวหมาก ถึงคลองลำสาลี \n",
      "        ├── 0310039-57-20 2.9 โครงการก่อสร้างถนนศรีนครินทร์-ร่มเกล้า ช่วงที่ 3 ก่อสร้างถนนศรีนครินทร์-ร่มเกล้า จากคลองลำสาลี ถึงคลองวังใหม่ \n",
      "        ├── 0310039-57-21 2.10 โครงการก่อสร้างถนนศรีนครินทร์-ร่มเกล้า ช่วงที่ 4 ก่อสร้างถนนศรีนครินทร์-ร่มเกล้า จากคลองวังใหม่ ถึงทางหลวงหมายเลข 9 \n",
      "        ├── 0310039-57-22 2.11 โครงการก่อสร้างถนนศรีนครินทร์-ร่มเกล้า ช่วงที่ 5 ก่อสร้างทางยกระดับข้ามทางหลวงหมายเลข 9 \n",
      "        ├── 0310039-57-23 2.12 โครงการก่อสร้างถนนศรีนครินทร์-ร่มเกล้า ช่วงที่ 6 ก่อสร้างและปรับปรุงถนนศรีนครินทร์-ร่มเกล้า จากทางหลวงหมายเลข 9 ถึงถนนร่มเกล้า \n",
      "        ├── 0310039-57-24 2.13 โครงการก่อสร้างถนนศรีนครินทร์-ร่มเกล้า ช่วงที่ 7 ก่อสร้างทางแยกต่างระดับถนนร่มเกล้า กับถนนเจ้าคุณทหาร \n",
      "        ├── 0310039-57-27 2.14 โครงการก่อสร้างทางลอดถนนพัฒนาการ- รามคำแหง-ถาวรธวัช \n",
      "        ├── โครงการก่อสร้างถนนศรีนครินทร์-ร่มเกล้า ช่วงที่ 2 \n",
      "        ├── 0310039-58-14 2.18 โครงการจ้างที่ปรึกษาควบคุมการก่อสร้าง\n",
      "        ├── โครงการก่อสร้างถนนศรีนครินทร์-ร่มเกล้า ช่วงที่ 3 \n",
      "        ├── 0310039-58-15 2.19 โครงการจ้างที่ปรึกษาควบคุมการก่อสร้าง\n",
      "        ├── โครงการก่อสร้างถนนศรีนครินทร์-ร่มเกล้า ช่วงที่ 4 \n",
      "        ├── 0310039-58-16 2.20 โครงการจ้างที่ปรึกษาควบคุมการก่อสร้าง\n",
      "        ├── โครงการก่อสร้างถนนศรีนครินทร์-ร่มเกล้า ช่วงที่ 5 \n",
      "        ├── 0310039-58-17 2.21 โครงการจ้างที่ปรึกษาควบคุมการก่อสร้าง\n",
      "        ├── โครงการก่อสร้างถนนศรีนครินทร์-ร่มเกล้า ช่วงที่ 6 \n",
      "        ├── 0310039-58-18 2.22 โครงการจ้างที่ปรึกษาควบคุมการก่อสร้าง\n",
      "        ├── โครงการก่อสร้างถนนศรีนครินทร์-ร่มเกล้า ช่วงที่ 7 \n",
      "        ├── 0310039-58-19 2.23 โครงการจ้างที่ปรึกษาควบคุมการก่อสร้าง\n",
      "        ├── โครงการต่อขยายสะพานอรุณอมรินทร์ พร้อมทางขึ้น-ลง และทางยกระดับข้ามแยกศิริราช \n",
      "        ├── 0310039-58-21 2.24 โครงการก่อสร้างอาคารผู้ป่วยนอก (OPD) โรงพยาบาลในเขตคลองสามวา \n",
      "        ├── 0310039-59-25 2.25 โครงการปรับปรุงถนนประชาร่วมใจ-ถนนมิตรไมตรี \n",
      "        ├── 0310039-59-29 2.26 โครงการก่อสร้างปรับปรุงถนนคุ้มเกล้า \n",
      "        ├── 0310041 2.27 งานควบคุมอาคาร \n",
      "        ├── 0310042 2.28 งานควบคุมการก่อสร้าง \n",
      "        ├── 0310042-60-02 2.29 โครงการก่อสร้างสะพานข้ามคลองเปรมประชากร เชื่อมต่อโรงพยาบาลจุฬาภรณ์กับถนนแจ้งวัฒนะ 5 \n",
      "        ├── 0310042-61-01 2.30 โครงการก่อสร้างสะพานข้ามแยก ณ ระนอง \n",
      "        ├── 0310042-61-02 2.31 โครงการก่อสร้างทางลอดรัชดา - ราชพฤกษ์ \n",
      "        ├── 0310042-61-06 2.32 โครงการก่อสร้างปรับปรุงถนนสามวา \n",
      "        ├── 0310042-61-21 2.33 โครงการต่อเชื่อมถนนกาญจนาภิเษก - ถนนพุทธมณฑลสาย 2 \n",
      "        ├── 0310042-61-32 2.34 โครงการก่อสร้างปรับปรุงถนนศาลาธรรมสพน์\n",
      "        ├── 0311043 3.1 งานก่อสร้างและบูรณะ \n",
      "        ├── 0311043-60-07 3.2 โครงการจ้างที่ปรึกษาศึกษาสำรวจและวิเคราะห์ ข้อมูลสภาพถนนและสะพานของกรุงเทพมหานคร ในพื้นที่ศูนย์ก่อสร้างและบูรณะถนน 1 \n",
      "        ├── 0311043-61-07 3.3 โครงการปรับปรุงสะพานพระราม 8 \n",
      "        ├── 0311043-61-15 3.4 โครงการปรับปรุงถนนฉิมพลี ช่วงจาก ถนนบรมราชชนนีถึงถนนเลียบทางรถไฟสายใต้ และถนนราชพฤกษ์ พื้นที่เขตตลิ่งชัน \n",
      "        └── 0311043-61-19 3.5 โครงการปรับปรุงสะพานเหล็กข้ามแยก ถนนเพชรบุรีตัดใหม่ – ถนนรัชดาภิเษก (อโศก) \n"
     ]
    }
   ],
   "source": [
    "print(RenderTree(bkk_bud_df.loc[52].node.parent.parent.parent))"
   ]
  },
  {
   "cell_type": "code",
   "execution_count": null,
   "id": "8dc6969f",
   "metadata": {},
   "outputs": [],
   "source": []
  }
 ],
 "metadata": {
  "kernelspec": {
   "display_name": "Python 3 (ipykernel)",
   "language": "python",
   "name": "python3"
  },
  "language_info": {
   "codemirror_mode": {
    "name": "ipython",
    "version": 3
   },
   "file_extension": ".py",
   "mimetype": "text/x-python",
   "name": "python",
   "nbconvert_exporter": "python",
   "pygments_lexer": "ipython3",
   "version": "3.9.7"
  }
 },
 "nbformat": 4,
 "nbformat_minor": 5
}
