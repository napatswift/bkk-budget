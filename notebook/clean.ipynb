{
 "cells": [
  {
   "cell_type": "code",
   "execution_count": 3,
   "id": "34cf5133",
   "metadata": {},
   "outputs": [],
   "source": [
    "import pandas as pd\n",
    "from tqdm import tqdm\n",
    "import random"
   ]
  },
  {
   "cell_type": "code",
   "execution_count": 81,
   "id": "c113920e",
   "metadata": {},
   "outputs": [],
   "source": [
    "df = pd.read_csv('../bkk-budget-with-entry.csv',low_memory=False)"
   ]
  },
  {
   "cell_type": "code",
   "execution_count": 82,
   "id": "67e4b9f5",
   "metadata": {},
   "outputs": [],
   "source": [
    "for _, entry_df in df[~df.entry_label.isna()].groupby(['entry_label']):\n",
    "    entry_df = entry_df.sort_values(['line_label', 'y0'])"
   ]
  },
  {
   "cell_type": "code",
   "execution_count": 83,
   "id": "87c40805",
   "metadata": {
    "scrolled": false
   },
   "outputs": [
    {
     "name": "stdout",
     "output_type": "stream",
     "text": [
      "total lines 449373\n"
     ]
    }
   ],
   "source": [
    "print('total lines',len(df.groupby(['pdf', 'pagenum', 'line_label'])))"
   ]
  },
  {
   "cell_type": "code",
   "execution_count": 85,
   "id": "830ec9b1",
   "metadata": {
    "scrolled": false
   },
   "outputs": [
    {
     "data": {
      "text/plain": [
       "17593"
      ]
     },
     "execution_count": 85,
     "metadata": {},
     "output_type": "execute_result"
    }
   ],
   "source": [
    "pdf_pagenum = list(df.groupby(['pdf', 'pagenum']))\n",
    "len(pdf_pagenum)"
   ]
  },
  {
   "cell_type": "code",
   "execution_count": 86,
   "id": "f099064b",
   "metadata": {},
   "outputs": [
    {
     "data": {
      "text/plain": [
       "(1039, 17466)"
      ]
     },
     "execution_count": 86,
     "metadata": {},
     "output_type": "execute_result"
    }
   ],
   "source": [
    "len([p[1].index for p in pdf_pagenum if (~p[1].entry_label.isna()).any() and len(p[1].line_label.unique()) < 100]),\\\n",
    "len([p[1].index for p in pdf_pagenum if ( p[1].entry_label.isna()).any() and len(p[1].line_label.unique()) < 100])"
   ]
  },
  {
   "cell_type": "code",
   "execution_count": 87,
   "id": "6bbfb602",
   "metadata": {},
   "outputs": [],
   "source": [
    "seleted_page_index = random.choices(\n",
    "    [p[1].index for p in pdf_pagenum if (~p[1].entry_label.isna()).any() and len(p[1].line_label.unique()) < 200]\n",
    "    , k=500) \\\n",
    "+ random.choices(\n",
    "    [p[1].index for p in pdf_pagenum if (p[1].entry_label.isna()).any() and len(p[1].line_label.unique()) < 200]\n",
    "    , k=130)"
   ]
  },
  {
   "cell_type": "code",
   "execution_count": 88,
   "id": "4f0d2b41",
   "metadata": {},
   "outputs": [
    {
     "data": {
      "text/plain": [
       "630"
      ]
     },
     "execution_count": 88,
     "metadata": {},
     "output_type": "execute_result"
    }
   ],
   "source": [
    "len(seleted_page_index)"
   ]
  },
  {
   "cell_type": "code",
   "execution_count": 89,
   "id": "f00a8b3c",
   "metadata": {},
   "outputs": [],
   "source": [
    "indexes = []\n",
    "for page_index in seleted_page_index:\n",
    "    indexes += list(page_index)"
   ]
  },
  {
   "cell_type": "code",
   "execution_count": 90,
   "id": "e5353551",
   "metadata": {},
   "outputs": [],
   "source": [
    "line_groupby = list(df.loc[indexes].groupby(['pdf', 'pagenum', 'line_label']))\n",
    "# line_groupby = list(df.groupby(['pdf', 'pagenum', 'line_label']))"
   ]
  },
  {
   "cell_type": "code",
   "execution_count": 91,
   "id": "e39910e7",
   "metadata": {},
   "outputs": [
    {
     "data": {
      "text/plain": [
       "524"
      ]
     },
     "execution_count": 91,
     "metadata": {},
     "output_type": "execute_result"
    }
   ],
   "source": [
    "len(df.loc[indexes].groupby(['pdf', 'pagenum',]))"
   ]
  },
  {
   "cell_type": "code",
   "execution_count": 92,
   "id": "3da9279b",
   "metadata": {
    "scrolled": false
   },
   "outputs": [
    {
     "name": "stderr",
     "output_type": "stream",
     "text": [
      "100%|████████████████████████████████████| 12820/12820 [00:17<00:00, 743.46it/s]\n"
     ]
    }
   ],
   "source": [
    "text_lines = []\n",
    "prev_entry_label = None\n",
    "for (pdf_name, page, line_num), line_df in tqdm(line_groupby):\n",
    "    line_df     = line_df.sort_values(['line_label', 'x0'])\n",
    "    text_line   = ' '.join(line_df.fix_text.astype(str))\n",
    "    is_entry    = -1 if line_df.entry_label.isna().all()  else line_df.entry_label.iloc[0]\n",
    "    entry_label = -1 if line_df.bullet_label.isna().all() else line_df.bullet_label.iloc[0]\n",
    "    text_lines.append({\n",
    "        'text': text_line,\n",
    "        'is_entry': is_entry,\n",
    "        'entry_label': entry_label,\n",
    "        'page': page,\n",
    "        'line_num': line_num,\n",
    "        'pdf_name': pdf_name\n",
    "    })"
   ]
  },
  {
   "cell_type": "code",
   "execution_count": 93,
   "id": "8885d3ae",
   "metadata": {},
   "outputs": [],
   "source": [
    "line_df = pd.DataFrame(text_lines)"
   ]
  },
  {
   "cell_type": "code",
   "execution_count": 94,
   "id": "db8d782c",
   "metadata": {},
   "outputs": [
    {
     "data": {
      "text/plain": [
       "48.745247148288975"
      ]
     },
     "execution_count": 94,
     "metadata": {},
     "output_type": "execute_result"
    }
   ],
   "source": [
    "line_df.groupby('pdf_name').text.count().mean()"
   ]
  },
  {
   "cell_type": "code",
   "execution_count": 95,
   "id": "2c45c321",
   "metadata": {
    "scrolled": true
   },
   "outputs": [
    {
     "name": "stdout",
     "output_type": "stream",
     "text": [
      "ratio (entry line / all):  0.6064742589703588\n"
     ]
    }
   ],
   "source": [
    "print('ratio (entry line / all): ',(line_df.is_entry != -1).sum()/len(line_df.is_entry))"
   ]
  },
  {
   "cell_type": "code",
   "execution_count": 99,
   "id": "b9d34126",
   "metadata": {
    "scrolled": true
   },
   "outputs": [],
   "source": [
    "line_df['tag'] = 'O'\n",
    "for x, entry_df in line_df[line_df.is_entry != -1].groupby(['is_entry']):\n",
    "    line_df.loc[entry_df.iloc[0].name, 'tag'] = 'B-ENTRY'\n",
    "    line_df.loc[entry_df.iloc[1:].index, 'tag'] = 'I-ENTRY'"
   ]
  },
  {
   "cell_type": "code",
   "execution_count": 98,
   "id": "067bdf6f",
   "metadata": {},
   "outputs": [
    {
     "data": {
      "text/html": [
       "<div>\n",
       "<style scoped>\n",
       "    .dataframe tbody tr th:only-of-type {\n",
       "        vertical-align: middle;\n",
       "    }\n",
       "\n",
       "    .dataframe tbody tr th {\n",
       "        vertical-align: top;\n",
       "    }\n",
       "\n",
       "    .dataframe thead th {\n",
       "        text-align: right;\n",
       "    }\n",
       "</style>\n",
       "<table border=\"1\" class=\"dataframe\">\n",
       "  <thead>\n",
       "    <tr style=\"text-align: right;\">\n",
       "      <th></th>\n",
       "      <th>text</th>\n",
       "      <th>is_entry</th>\n",
       "      <th>entry_label</th>\n",
       "      <th>page</th>\n",
       "      <th>line_num</th>\n",
       "      <th>pdf_name</th>\n",
       "      <th>tag</th>\n",
       "      <th>end</th>\n",
       "    </tr>\n",
       "  </thead>\n",
       "  <tbody>\n",
       "    <tr>\n",
       "      <th>233</th>\n",
       "      <td>และบริหารจัดการโรงควบคุมคุณภาพน้ำจตุจักร และบร...</td>\n",
       "      <td>214.0</td>\n",
       "      <td>-1.0</td>\n",
       "      <td>16</td>\n",
       "      <td>17.0</td>\n",
       "      <td>pdf/61/A20171003161852.pdf</td>\n",
       "      <td>O</td>\n",
       "      <td>I-ENTRY</td>\n",
       "    </tr>\n",
       "    <tr>\n",
       "      <th>234</th>\n",
       "      <td>ระยะที่ ระยะที่ 3 3 110,800,000 110,800,000 บา...</td>\n",
       "      <td>214.0</td>\n",
       "      <td>-1.0</td>\n",
       "      <td>16</td>\n",
       "      <td>18.0</td>\n",
       "      <td>pdf/61/A20171003161852.pdf</td>\n",
       "      <td>O</td>\n",
       "      <td>I-ENTRY</td>\n",
       "    </tr>\n",
       "    <tr>\n",
       "      <th>235</th>\n",
       "      <td>7. 7. โครงการจ้างที่ปรึกษาสำรวจ โครงการจ้างที่...</td>\n",
       "      <td>215.0</td>\n",
       "      <td>4.0</td>\n",
       "      <td>16</td>\n",
       "      <td>19.0</td>\n",
       "      <td>pdf/61/A20171003161852.pdf</td>\n",
       "      <td>B-ENTRY</td>\n",
       "      <td>NaN</td>\n",
       "    </tr>\n",
       "    <tr>\n",
       "      <th>236</th>\n",
       "      <td>ระบบรวบรวมน้ำเสีย ระบบรวบรวมน้ำเสีย (เพิ่มเติม...</td>\n",
       "      <td>215.0</td>\n",
       "      <td>-1.0</td>\n",
       "      <td>16</td>\n",
       "      <td>20.0</td>\n",
       "      <td>pdf/61/A20171003161852.pdf</td>\n",
       "      <td>O</td>\n",
       "      <td>I-ENTRY</td>\n",
       "    </tr>\n",
       "    <tr>\n",
       "      <th>237</th>\n",
       "      <td>เข้าโรงควบคุมคุณภาพน้ำดินแดง เข้าโรงควบคุมคุณภ...</td>\n",
       "      <td>215.0</td>\n",
       "      <td>-1.0</td>\n",
       "      <td>16</td>\n",
       "      <td>21.0</td>\n",
       "      <td>pdf/61/A20171003161852.pdf</td>\n",
       "      <td>O</td>\n",
       "      <td>I-ENTRY</td>\n",
       "    </tr>\n",
       "    <tr>\n",
       "      <th>238</th>\n",
       "      <td>8. 8. โครงการก่อสร้างระบบรวบรวมน้ำเสีย โครงการ...</td>\n",
       "      <td>216.0</td>\n",
       "      <td>4.0</td>\n",
       "      <td>16</td>\n",
       "      <td>22.0</td>\n",
       "      <td>pdf/61/A20171003161852.pdf</td>\n",
       "      <td>B-ENTRY</td>\n",
       "      <td>NaN</td>\n",
       "    </tr>\n",
       "    <tr>\n",
       "      <th>239</th>\n",
       "      <td>จากพื้นที่รับน้ำคลองลาดโตนด จากพื้นที่รับน้ำคล...</td>\n",
       "      <td>216.0</td>\n",
       "      <td>-1.0</td>\n",
       "      <td>16</td>\n",
       "      <td>23.0</td>\n",
       "      <td>pdf/61/A20171003161852.pdf</td>\n",
       "      <td>O</td>\n",
       "      <td>I-ENTRY</td>\n",
       "    </tr>\n",
       "    <tr>\n",
       "      <th>240</th>\n",
       "      <td>9. 9. โครงการปรับปรุงโรงควบคุมคุณภาพน้ำ โครงกา...</td>\n",
       "      <td>217.0</td>\n",
       "      <td>4.0</td>\n",
       "      <td>16</td>\n",
       "      <td>24.0</td>\n",
       "      <td>pdf/61/A20171003161852.pdf</td>\n",
       "      <td>B-ENTRY</td>\n",
       "      <td>NaN</td>\n",
       "    </tr>\n",
       "    <tr>\n",
       "      <th>241</th>\n",
       "      <td>ห้วยขวาง ห้วยขวาง 4,800,000 4,800,000 บาท บาท</td>\n",
       "      <td>217.0</td>\n",
       "      <td>-1.0</td>\n",
       "      <td>16</td>\n",
       "      <td>25.0</td>\n",
       "      <td>pdf/61/A20171003161852.pdf</td>\n",
       "      <td>O</td>\n",
       "      <td>I-ENTRY</td>\n",
       "    </tr>\n",
       "    <tr>\n",
       "      <th>242</th>\n",
       "      <td>10. 10. โครงการก่อสร้างระบบรวบรวมน้ำเสีย โครงก...</td>\n",
       "      <td>218.0</td>\n",
       "      <td>4.0</td>\n",
       "      <td>16</td>\n",
       "      <td>26.0</td>\n",
       "      <td>pdf/61/A20171003161852.pdf</td>\n",
       "      <td>B-ENTRY</td>\n",
       "      <td>NaN</td>\n",
       "    </tr>\n",
       "  </tbody>\n",
       "</table>\n",
       "</div>"
      ],
      "text/plain": [
       "                                                  text  is_entry  entry_label  \\\n",
       "233  และบริหารจัดการโรงควบคุมคุณภาพน้ำจตุจักร และบร...     214.0         -1.0   \n",
       "234  ระยะที่ ระยะที่ 3 3 110,800,000 110,800,000 บา...     214.0         -1.0   \n",
       "235  7. 7. โครงการจ้างที่ปรึกษาสำรวจ โครงการจ้างที่...     215.0          4.0   \n",
       "236  ระบบรวบรวมน้ำเสีย ระบบรวบรวมน้ำเสีย (เพิ่มเติม...     215.0         -1.0   \n",
       "237  เข้าโรงควบคุมคุณภาพน้ำดินแดง เข้าโรงควบคุมคุณภ...     215.0         -1.0   \n",
       "238  8. 8. โครงการก่อสร้างระบบรวบรวมน้ำเสีย โครงการ...     216.0          4.0   \n",
       "239  จากพื้นที่รับน้ำคลองลาดโตนด จากพื้นที่รับน้ำคล...     216.0         -1.0   \n",
       "240  9. 9. โครงการปรับปรุงโรงควบคุมคุณภาพน้ำ โครงกา...     217.0          4.0   \n",
       "241      ห้วยขวาง ห้วยขวาง 4,800,000 4,800,000 บาท บาท     217.0         -1.0   \n",
       "242  10. 10. โครงการก่อสร้างระบบรวบรวมน้ำเสีย โครงก...     218.0          4.0   \n",
       "\n",
       "     page  line_num                    pdf_name      tag      end  \n",
       "233    16      17.0  pdf/61/A20171003161852.pdf        O  I-ENTRY  \n",
       "234    16      18.0  pdf/61/A20171003161852.pdf        O  I-ENTRY  \n",
       "235    16      19.0  pdf/61/A20171003161852.pdf  B-ENTRY      NaN  \n",
       "236    16      20.0  pdf/61/A20171003161852.pdf        O  I-ENTRY  \n",
       "237    16      21.0  pdf/61/A20171003161852.pdf        O  I-ENTRY  \n",
       "238    16      22.0  pdf/61/A20171003161852.pdf  B-ENTRY      NaN  \n",
       "239    16      23.0  pdf/61/A20171003161852.pdf        O  I-ENTRY  \n",
       "240    16      24.0  pdf/61/A20171003161852.pdf  B-ENTRY      NaN  \n",
       "241    16      25.0  pdf/61/A20171003161852.pdf        O  I-ENTRY  \n",
       "242    16      26.0  pdf/61/A20171003161852.pdf  B-ENTRY      NaN  "
      ]
     },
     "execution_count": 98,
     "metadata": {},
     "output_type": "execute_result"
    }
   ],
   "source": [
    "i = random.randint(0,1000)\n",
    "line_df[i:i+10]"
   ]
  },
  {
   "cell_type": "code",
   "execution_count": 100,
   "id": "ac4b4ecb",
   "metadata": {},
   "outputs": [],
   "source": [
    "line_df.to_csv('../dataset/bullet_train-set.csv')"
   ]
  },
  {
   "cell_type": "markdown",
   "id": "f0bf1f0e",
   "metadata": {},
   "source": [
    "# Rearrange Columns"
   ]
  },
  {
   "cell_type": "code",
   "execution_count": 335,
   "id": "cdef83ba",
   "metadata": {},
   "outputs": [],
   "source": [
    "df = pd.read_csv('../bkkbudget_61-64_v0.1.csv', index_col=0)\n",
    "df = df.assign(fisical_year=df.pdf_name.apply(lambda pdf_name: int(pdf_name.split('/')[1])))"
   ]
  },
  {
   "cell_type": "code",
   "execution_count": 336,
   "id": "9083a3ac",
   "metadata": {},
   "outputs": [],
   "source": [
    "sub_cat_cols = [col for col in df.columns if col[-1].isdigit()]\n",
    "cols = [\n",
    "    'fisical_year','name_organization', 'pdf_name', *sub_cat_cols, \n",
    "    'output/proj', 'output_proj_name', 'amount', 'pdf_link']\n",
    "df = df[cols]"
   ]
  },
  {
   "cell_type": "code",
   "execution_count": 337,
   "id": "cf689154",
   "metadata": {},
   "outputs": [],
   "source": [
    "df.to_csv('../bkkbudget_61-64_v0.2.csv')"
   ]
  },
  {
   "cell_type": "code",
   "execution_count": null,
   "id": "cf009f37",
   "metadata": {},
   "outputs": [],
   "source": []
  }
 ],
 "metadata": {
  "kernelspec": {
   "display_name": "Python 3 (ipykernel)",
   "language": "python",
   "name": "python3"
  },
  "language_info": {
   "codemirror_mode": {
    "name": "ipython",
    "version": 3
   },
   "file_extension": ".py",
   "mimetype": "text/x-python",
   "name": "python",
   "nbconvert_exporter": "python",
   "pygments_lexer": "ipython3",
   "version": "3.9.7"
  }
 },
 "nbformat": 4,
 "nbformat_minor": 5
}
